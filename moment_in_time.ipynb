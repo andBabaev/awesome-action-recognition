{
  "nbformat": 4,
  "nbformat_minor": 0,
  "metadata": {
    "colab": {
      "name": "moment_in_time.ipynb",
      "provenance": [],
      "collapsed_sections": [],
      "mount_file_id": "1kqM85zwsDal218B40Wlmg8M8KcFj-BbO",
      "authorship_tag": "ABX9TyMJZ5YhGr94PxePqkF7QZpO",
      "include_colab_link": true
    },
    "kernelspec": {
      "name": "python3",
      "display_name": "Python 3"
    },
    "accelerator": "GPU",
    "widgets": {
      "application/vnd.jupyter.widget-state+json": {
        "aad9d6417fb9497498a4da6c6e85db98": {
          "model_module": "@jupyter-widgets/controls",
          "model_name": "HBoxModel",
          "state": {
            "_view_name": "HBoxView",
            "_dom_classes": [],
            "_model_name": "HBoxModel",
            "_view_module": "@jupyter-widgets/controls",
            "_model_module_version": "1.5.0",
            "_view_count": null,
            "_view_module_version": "1.5.0",
            "box_style": "",
            "layout": "IPY_MODEL_291e82fe6f3a4342911504787d5b8e9c",
            "_model_module": "@jupyter-widgets/controls",
            "children": [
              "IPY_MODEL_dc0f60fe547147fe944e7ce12ff628f5",
              "IPY_MODEL_251978ad7aed4a46a9bad1512da65e5e"
            ]
          }
        },
        "291e82fe6f3a4342911504787d5b8e9c": {
          "model_module": "@jupyter-widgets/base",
          "model_name": "LayoutModel",
          "state": {
            "_view_name": "LayoutView",
            "grid_template_rows": null,
            "right": null,
            "justify_content": null,
            "_view_module": "@jupyter-widgets/base",
            "overflow": null,
            "_model_module_version": "1.2.0",
            "_view_count": null,
            "flex_flow": null,
            "width": null,
            "min_width": null,
            "border": null,
            "align_items": null,
            "bottom": null,
            "_model_module": "@jupyter-widgets/base",
            "top": null,
            "grid_column": null,
            "overflow_y": null,
            "overflow_x": null,
            "grid_auto_flow": null,
            "grid_area": null,
            "grid_template_columns": null,
            "flex": null,
            "_model_name": "LayoutModel",
            "justify_items": null,
            "grid_row": null,
            "max_height": null,
            "align_content": null,
            "visibility": null,
            "align_self": null,
            "height": null,
            "min_height": null,
            "padding": null,
            "grid_auto_rows": null,
            "grid_gap": null,
            "max_width": null,
            "order": null,
            "_view_module_version": "1.2.0",
            "grid_template_areas": null,
            "object_position": null,
            "object_fit": null,
            "grid_auto_columns": null,
            "margin": null,
            "display": null,
            "left": null
          }
        },
        "dc0f60fe547147fe944e7ce12ff628f5": {
          "model_module": "@jupyter-widgets/controls",
          "model_name": "FloatProgressModel",
          "state": {
            "_view_name": "ProgressView",
            "style": "IPY_MODEL_3134b233bdaf46739b2f32db9654788a",
            "_dom_classes": [],
            "description": "100%",
            "_model_name": "FloatProgressModel",
            "bar_style": "success",
            "max": 32413,
            "_view_module": "@jupyter-widgets/controls",
            "_model_module_version": "1.5.0",
            "value": 32413,
            "_view_count": null,
            "_view_module_version": "1.5.0",
            "orientation": "horizontal",
            "min": 0,
            "description_tooltip": null,
            "_model_module": "@jupyter-widgets/controls",
            "layout": "IPY_MODEL_43348be4dd9241a89d705f66197988f6"
          }
        },
        "251978ad7aed4a46a9bad1512da65e5e": {
          "model_module": "@jupyter-widgets/controls",
          "model_name": "HTMLModel",
          "state": {
            "_view_name": "HTMLView",
            "style": "IPY_MODEL_32955826a6524a3bacb4362ef510c297",
            "_dom_classes": [],
            "description": "",
            "_model_name": "HTMLModel",
            "placeholder": "​",
            "_view_module": "@jupyter-widgets/controls",
            "_model_module_version": "1.5.0",
            "value": " 32413/32413 [22:19&lt;00:00, 24.19it/s]",
            "_view_count": null,
            "_view_module_version": "1.5.0",
            "description_tooltip": null,
            "_model_module": "@jupyter-widgets/controls",
            "layout": "IPY_MODEL_12dcd54eb9c84df9b871f0eaf501d80f"
          }
        },
        "3134b233bdaf46739b2f32db9654788a": {
          "model_module": "@jupyter-widgets/controls",
          "model_name": "ProgressStyleModel",
          "state": {
            "_view_name": "StyleView",
            "_model_name": "ProgressStyleModel",
            "description_width": "initial",
            "_view_module": "@jupyter-widgets/base",
            "_model_module_version": "1.5.0",
            "_view_count": null,
            "_view_module_version": "1.2.0",
            "bar_color": null,
            "_model_module": "@jupyter-widgets/controls"
          }
        },
        "43348be4dd9241a89d705f66197988f6": {
          "model_module": "@jupyter-widgets/base",
          "model_name": "LayoutModel",
          "state": {
            "_view_name": "LayoutView",
            "grid_template_rows": null,
            "right": null,
            "justify_content": null,
            "_view_module": "@jupyter-widgets/base",
            "overflow": null,
            "_model_module_version": "1.2.0",
            "_view_count": null,
            "flex_flow": null,
            "width": null,
            "min_width": null,
            "border": null,
            "align_items": null,
            "bottom": null,
            "_model_module": "@jupyter-widgets/base",
            "top": null,
            "grid_column": null,
            "overflow_y": null,
            "overflow_x": null,
            "grid_auto_flow": null,
            "grid_area": null,
            "grid_template_columns": null,
            "flex": null,
            "_model_name": "LayoutModel",
            "justify_items": null,
            "grid_row": null,
            "max_height": null,
            "align_content": null,
            "visibility": null,
            "align_self": null,
            "height": null,
            "min_height": null,
            "padding": null,
            "grid_auto_rows": null,
            "grid_gap": null,
            "max_width": null,
            "order": null,
            "_view_module_version": "1.2.0",
            "grid_template_areas": null,
            "object_position": null,
            "object_fit": null,
            "grid_auto_columns": null,
            "margin": null,
            "display": null,
            "left": null
          }
        },
        "32955826a6524a3bacb4362ef510c297": {
          "model_module": "@jupyter-widgets/controls",
          "model_name": "DescriptionStyleModel",
          "state": {
            "_view_name": "StyleView",
            "_model_name": "DescriptionStyleModel",
            "description_width": "",
            "_view_module": "@jupyter-widgets/base",
            "_model_module_version": "1.5.0",
            "_view_count": null,
            "_view_module_version": "1.2.0",
            "_model_module": "@jupyter-widgets/controls"
          }
        },
        "12dcd54eb9c84df9b871f0eaf501d80f": {
          "model_module": "@jupyter-widgets/base",
          "model_name": "LayoutModel",
          "state": {
            "_view_name": "LayoutView",
            "grid_template_rows": null,
            "right": null,
            "justify_content": null,
            "_view_module": "@jupyter-widgets/base",
            "overflow": null,
            "_model_module_version": "1.2.0",
            "_view_count": null,
            "flex_flow": null,
            "width": null,
            "min_width": null,
            "border": null,
            "align_items": null,
            "bottom": null,
            "_model_module": "@jupyter-widgets/base",
            "top": null,
            "grid_column": null,
            "overflow_y": null,
            "overflow_x": null,
            "grid_auto_flow": null,
            "grid_area": null,
            "grid_template_columns": null,
            "flex": null,
            "_model_name": "LayoutModel",
            "justify_items": null,
            "grid_row": null,
            "max_height": null,
            "align_content": null,
            "visibility": null,
            "align_self": null,
            "height": null,
            "min_height": null,
            "padding": null,
            "grid_auto_rows": null,
            "grid_gap": null,
            "max_width": null,
            "order": null,
            "_view_module_version": "1.2.0",
            "grid_template_areas": null,
            "object_position": null,
            "object_fit": null,
            "grid_auto_columns": null,
            "margin": null,
            "display": null,
            "left": null
          }
        },
        "c6364c0bc83644ddaecaa13b32605c97": {
          "model_module": "@jupyter-widgets/controls",
          "model_name": "HBoxModel",
          "state": {
            "_view_name": "HBoxView",
            "_dom_classes": [],
            "_model_name": "HBoxModel",
            "_view_module": "@jupyter-widgets/controls",
            "_model_module_version": "1.5.0",
            "_view_count": null,
            "_view_module_version": "1.5.0",
            "box_style": "",
            "layout": "IPY_MODEL_c01cded765d04898a048ef982e7e0879",
            "_model_module": "@jupyter-widgets/controls",
            "children": [
              "IPY_MODEL_0eec87d05b124118b315f91df84804e0",
              "IPY_MODEL_ab97fa5d2cd64e62b4e8d3e7fda43ce4"
            ]
          }
        },
        "c01cded765d04898a048ef982e7e0879": {
          "model_module": "@jupyter-widgets/base",
          "model_name": "LayoutModel",
          "state": {
            "_view_name": "LayoutView",
            "grid_template_rows": null,
            "right": null,
            "justify_content": null,
            "_view_module": "@jupyter-widgets/base",
            "overflow": null,
            "_model_module_version": "1.2.0",
            "_view_count": null,
            "flex_flow": null,
            "width": null,
            "min_width": null,
            "border": null,
            "align_items": null,
            "bottom": null,
            "_model_module": "@jupyter-widgets/base",
            "top": null,
            "grid_column": null,
            "overflow_y": null,
            "overflow_x": null,
            "grid_auto_flow": null,
            "grid_area": null,
            "grid_template_columns": null,
            "flex": null,
            "_model_name": "LayoutModel",
            "justify_items": null,
            "grid_row": null,
            "max_height": null,
            "align_content": null,
            "visibility": null,
            "align_self": null,
            "height": null,
            "min_height": null,
            "padding": null,
            "grid_auto_rows": null,
            "grid_gap": null,
            "max_width": null,
            "order": null,
            "_view_module_version": "1.2.0",
            "grid_template_areas": null,
            "object_position": null,
            "object_fit": null,
            "grid_auto_columns": null,
            "margin": null,
            "display": null,
            "left": null
          }
        },
        "0eec87d05b124118b315f91df84804e0": {
          "model_module": "@jupyter-widgets/controls",
          "model_name": "FloatProgressModel",
          "state": {
            "_view_name": "ProgressView",
            "style": "IPY_MODEL_6086c02be4d74e0f9ac2b0f03bb668d1",
            "_dom_classes": [],
            "description": "",
            "_model_name": "FloatProgressModel",
            "bar_style": "success",
            "max": 1,
            "_view_module": "@jupyter-widgets/controls",
            "_model_module_version": "1.5.0",
            "value": 1,
            "_view_count": null,
            "_view_module_version": "1.5.0",
            "orientation": "horizontal",
            "min": 0,
            "description_tooltip": null,
            "_model_module": "@jupyter-widgets/controls",
            "layout": "IPY_MODEL_0ac815e9a99b4d4698bcc8802756ef74"
          }
        },
        "ab97fa5d2cd64e62b4e8d3e7fda43ce4": {
          "model_module": "@jupyter-widgets/controls",
          "model_name": "HTMLModel",
          "state": {
            "_view_name": "HTMLView",
            "style": "IPY_MODEL_e18ecfa2dec146b798477a89d500c261",
            "_dom_classes": [],
            "description": "",
            "_model_name": "HTMLModel",
            "placeholder": "​",
            "_view_module": "@jupyter-widgets/controls",
            "_model_module_version": "1.5.0",
            "value": " 1000/? [01:23&lt;00:00, 11.96it/s]",
            "_view_count": null,
            "_view_module_version": "1.5.0",
            "description_tooltip": null,
            "_model_module": "@jupyter-widgets/controls",
            "layout": "IPY_MODEL_0334b905df7141a4a67eafdb02e46fd8"
          }
        },
        "6086c02be4d74e0f9ac2b0f03bb668d1": {
          "model_module": "@jupyter-widgets/controls",
          "model_name": "ProgressStyleModel",
          "state": {
            "_view_name": "StyleView",
            "_model_name": "ProgressStyleModel",
            "description_width": "initial",
            "_view_module": "@jupyter-widgets/base",
            "_model_module_version": "1.5.0",
            "_view_count": null,
            "_view_module_version": "1.2.0",
            "bar_color": null,
            "_model_module": "@jupyter-widgets/controls"
          }
        },
        "0ac815e9a99b4d4698bcc8802756ef74": {
          "model_module": "@jupyter-widgets/base",
          "model_name": "LayoutModel",
          "state": {
            "_view_name": "LayoutView",
            "grid_template_rows": null,
            "right": null,
            "justify_content": null,
            "_view_module": "@jupyter-widgets/base",
            "overflow": null,
            "_model_module_version": "1.2.0",
            "_view_count": null,
            "flex_flow": null,
            "width": null,
            "min_width": null,
            "border": null,
            "align_items": null,
            "bottom": null,
            "_model_module": "@jupyter-widgets/base",
            "top": null,
            "grid_column": null,
            "overflow_y": null,
            "overflow_x": null,
            "grid_auto_flow": null,
            "grid_area": null,
            "grid_template_columns": null,
            "flex": null,
            "_model_name": "LayoutModel",
            "justify_items": null,
            "grid_row": null,
            "max_height": null,
            "align_content": null,
            "visibility": null,
            "align_self": null,
            "height": null,
            "min_height": null,
            "padding": null,
            "grid_auto_rows": null,
            "grid_gap": null,
            "max_width": null,
            "order": null,
            "_view_module_version": "1.2.0",
            "grid_template_areas": null,
            "object_position": null,
            "object_fit": null,
            "grid_auto_columns": null,
            "margin": null,
            "display": null,
            "left": null
          }
        },
        "e18ecfa2dec146b798477a89d500c261": {
          "model_module": "@jupyter-widgets/controls",
          "model_name": "DescriptionStyleModel",
          "state": {
            "_view_name": "StyleView",
            "_model_name": "DescriptionStyleModel",
            "description_width": "",
            "_view_module": "@jupyter-widgets/base",
            "_model_module_version": "1.5.0",
            "_view_count": null,
            "_view_module_version": "1.2.0",
            "_model_module": "@jupyter-widgets/controls"
          }
        },
        "0334b905df7141a4a67eafdb02e46fd8": {
          "model_module": "@jupyter-widgets/base",
          "model_name": "LayoutModel",
          "state": {
            "_view_name": "LayoutView",
            "grid_template_rows": null,
            "right": null,
            "justify_content": null,
            "_view_module": "@jupyter-widgets/base",
            "overflow": null,
            "_model_module_version": "1.2.0",
            "_view_count": null,
            "flex_flow": null,
            "width": null,
            "min_width": null,
            "border": null,
            "align_items": null,
            "bottom": null,
            "_model_module": "@jupyter-widgets/base",
            "top": null,
            "grid_column": null,
            "overflow_y": null,
            "overflow_x": null,
            "grid_auto_flow": null,
            "grid_area": null,
            "grid_template_columns": null,
            "flex": null,
            "_model_name": "LayoutModel",
            "justify_items": null,
            "grid_row": null,
            "max_height": null,
            "align_content": null,
            "visibility": null,
            "align_self": null,
            "height": null,
            "min_height": null,
            "padding": null,
            "grid_auto_rows": null,
            "grid_gap": null,
            "max_width": null,
            "order": null,
            "_view_module_version": "1.2.0",
            "grid_template_areas": null,
            "object_position": null,
            "object_fit": null,
            "grid_auto_columns": null,
            "margin": null,
            "display": null,
            "left": null
          }
        }
      }
    }
  },
  "cells": [
    {
      "cell_type": "markdown",
      "metadata": {
        "id": "view-in-github",
        "colab_type": "text"
      },
      "source": [
        "<a href=\"https://colab.research.google.com/github/andBabaev/awesomem-action-recognition/blob/master/moment_in_time.ipynb\" target=\"_parent\"><img src=\"https://colab.research.google.com/assets/colab-badge.svg\" alt=\"Open In Colab\"/></a>"
      ]
    },
    {
      "cell_type": "code",
      "metadata": {
        "id": "Xbl2Vqsi0d2O",
        "colab_type": "code",
        "outputId": "722b16a3-b231-4e27-95ce-ba77387ca570",
        "colab": {
          "base_uri": "https://localhost:8080/",
          "height": 238
        }
      },
      "source": [
        "!pip install tqdm --upgrade"
      ],
      "execution_count": 0,
      "outputs": [
        {
          "output_type": "stream",
          "text": [
            "Collecting tqdm\n",
            "\u001b[?25l  Downloading https://files.pythonhosted.org/packages/f3/76/4697ce203a3d42b2ead61127b35e5fcc26bba9a35c03b32a2bd342a4c869/tqdm-4.46.1-py2.py3-none-any.whl (63kB)\n",
            "\r\u001b[K     |█████▏                          | 10kB 24.8MB/s eta 0:00:01\r\u001b[K     |██████████▎                     | 20kB 6.0MB/s eta 0:00:01\r\u001b[K     |███████████████▍                | 30kB 7.4MB/s eta 0:00:01\r\u001b[K     |████████████████████▋           | 40kB 8.2MB/s eta 0:00:01\r\u001b[K     |█████████████████████████▊      | 51kB 6.9MB/s eta 0:00:01\r\u001b[K     |██████████████████████████████▉ | 61kB 8.0MB/s eta 0:00:01\r\u001b[K     |████████████████████████████████| 71kB 5.1MB/s \n",
            "\u001b[?25hInstalling collected packages: tqdm\n",
            "  Found existing installation: tqdm 4.41.1\n",
            "    Uninstalling tqdm-4.41.1:\n",
            "      Successfully uninstalled tqdm-4.41.1\n",
            "Successfully installed tqdm-4.46.1\n"
          ],
          "name": "stdout"
        },
        {
          "output_type": "display_data",
          "data": {
            "application/vnd.colab-display-data+json": {
              "pip_warning": {
                "packages": [
                  "tqdm"
                ]
              }
            }
          },
          "metadata": {
            "tags": []
          }
        }
      ]
    },
    {
      "cell_type": "code",
      "metadata": {
        "id": "jhD-zSOGy57Q",
        "colab_type": "code",
        "outputId": "c81a28bc-f399-4701-ee70-b6e03fefefa8",
        "colab": {
          "base_uri": "https://localhost:8080/",
          "height": 34
        }
      },
      "source": [
        "from keras import backend as K\n",
        "from keras.layers.core import Dense, Activation, Dropout\n",
        "from keras.models import Model, Sequential, load_model\n",
        "from keras.layers import Dense,GlobalAveragePooling2D, TimeDistributed, LSTM, Input, Flatten, Conv3D, MaxPool3D, GlobalAveragePooling3D\n",
        "from keras.layers import Conv2D, Reshape, Permute, Concatenate, BatchNormalization, Lambda\n",
        "from keras.regularizers import l2\n",
        "from keras.applications import Xception, MobileNetV2\n",
        "from keras.utils import Sequence, to_categorical\n",
        "from keras.callbacks import ModelCheckpoint, EarlyStopping\n",
        "from keras.optimizers import Adam, SGD\n",
        "from sklearn.utils import class_weight\n",
        "import numpy as np\n",
        "import cv2\n",
        "from time import time\n",
        "import pandas as pd\n",
        "import matplotlib.pyplot as plt\n",
        "from tqdm.notebook import tqdm\n",
        "import multiprocessing as mp\n",
        "import tensorflow_hub as hub\n",
        "import tensorflow as tf\n",
        "from tensorflow.keras.applications.mobilenet_v2 import preprocess_input\n",
        "from tensorflow.keras.preprocessing import image\n",
        "import os"
      ],
      "execution_count": 2,
      "outputs": [
        {
          "output_type": "stream",
          "text": [
            "Using TensorFlow backend.\n"
          ],
          "name": "stderr"
        }
      ]
    },
    {
      "cell_type": "code",
      "metadata": {
        "id": "fvsb39WI_kEp",
        "colab_type": "code",
        "colab": {}
      },
      "source": [
        "root_path_models = '/content/drive/My Drive/roonyx_models'"
      ],
      "execution_count": 0,
      "outputs": []
    },
    {
      "cell_type": "markdown",
      "metadata": {
        "id": "LUJeEQO90dou",
        "colab_type": "text"
      },
      "source": [
        "# Split data"
      ]
    },
    {
      "cell_type": "code",
      "metadata": {
        "colab_type": "code",
        "id": "xE-Of8uY0tGK",
        "colab": {}
      },
      "source": [
        "#!wget http://data.csail.mit.edu/soundnet/actions3/split1/Moments_in_Time_Mini.zip\n",
        "#!cp 'Moments_in_Time_Mini.zip' 'drive/My Drive/'"
      ],
      "execution_count": 0,
      "outputs": []
    },
    {
      "cell_type": "code",
      "metadata": {
        "colab_type": "code",
        "id": "NF69tguD0tGS",
        "colab": {}
      },
      "source": [
        "# !cp 'drive/My Drive/Moments_in_Time_Mini.zip' './'\n",
        "# !unzip -qq 'Moments_in_Time_Mini.zip'"
      ],
      "execution_count": 0,
      "outputs": []
    },
    {
      "cell_type": "code",
      "metadata": {
        "colab_type": "code",
        "id": "yTDe7drG0tGW",
        "colab": {}
      },
      "source": [
        "!mkdir './roonyx_data/'\n",
        "!cp 'drive/My Drive/roonyx_data/training1.rar' './'\n",
        "!cp 'drive/My Drive/roonyx_data/validation1.rar' './'\n",
        "!cp 'drive/My Drive/roonyx_data/trainingSet.csv' './roonyx_data/'\n",
        "!cp 'drive/My Drive/roonyx_data/validationSet.csv' './roonyx_data/'\n",
        "\n",
        "!unrar -idq x '/content/training1.rar'  '/content/roonyx_data/training/'\n",
        "!unrar -idq x '/content/validation1.rar'  '/content/roonyx_data/validation/'\n",
        "!rm '/content/training1.rar'\n",
        "!rm '/content/validation1.rar'"
      ],
      "execution_count": 0,
      "outputs": []
    },
    {
      "cell_type": "code",
      "metadata": {
        "id": "P1gDU7_7y57p",
        "colab_type": "code",
        "outputId": "14816ac6-bd33-464e-9b97-01a7a66aaf80",
        "colab": {
          "base_uri": "https://localhost:8080/",
          "height": 34
        }
      },
      "source": [
        "target_classes = ['smoking', 'punching', 'bicycling', 'typing', 'discussing', \n",
        "                  'dancing', 'telephoning', 'shooting', 'exercising', 'drawing']\n",
        "# target_classes = ['bicycling', 'cooking', 'dancing', 'drawing', 'drinking',\n",
        "#                   'eating', 'crying', 'walking', 'exercising', 'jumping']\n",
        "n_classes = len(target_classes)\n",
        "print(sorted(target_classes))\n",
        "\n",
        "root_path = 'roonyx_data/'\n",
        "#root_path = 'Moments_in_Time_Mini/'"
      ],
      "execution_count": 14,
      "outputs": [
        {
          "output_type": "stream",
          "text": [
            "['bicycling', 'dancing', 'discussing', 'drawing', 'exercising', 'punching', 'shooting', 'smoking', 'telephoning', 'typing']\n"
          ],
          "name": "stdout"
        }
      ]
    },
    {
      "cell_type": "code",
      "metadata": {
        "id": "j9Rd2ZSLy57u",
        "colab_type": "code",
        "colab": {}
      },
      "source": [
        "\n",
        "train_df = pd.read_csv(root_path+\"trainingSet.csv\", header=None, \n",
        "                 names=['filename', 'label', 'good', 'bad'] )\n",
        "test_df = pd.read_csv(root_path+\"validationSet.csv\", header=None, \n",
        "                 names=['filename', 'label', 'good', 'bad'] )\n",
        "train_df = train_df[train_df.label.isin(target_classes)]\n",
        "test_df = test_df[test_df.label.isin(target_classes)]"
      ],
      "execution_count": 0,
      "outputs": []
    },
    {
      "cell_type": "code",
      "metadata": {
        "id": "qcX3Ymj0y57y",
        "colab_type": "code",
        "colab": {}
      },
      "source": [
        "train_df['%good'] = train_df.good / (train_df.bad + train_df.good)\n",
        "train_df = train_df[train_df['%good'] > 0.7]\n",
        "# train_df = train_df[train_df['bad'] == 0]\n",
        "# test_df = test_df[test_df['bad'] == 0]"
      ],
      "execution_count": 0,
      "outputs": []
    },
    {
      "cell_type": "code",
      "metadata": {
        "id": "iAFTSI0EJnli",
        "colab_type": "code",
        "outputId": "608f40fb-3cce-46f6-96e5-0a2d1ab2c210",
        "colab": {
          "base_uri": "https://localhost:8080/",
          "height": 383
        }
      },
      "source": [
        "import seaborn as sns\n",
        "plt.figure(figsize=(10,5))\n",
        "plt.subplot(1,2,1)\n",
        "plt.xticks(rotation=90)\n",
        "sns.countplot(train_df.label)\n",
        "plt.subplot(1,2,2)\n",
        "plt.xticks(rotation=90)\n",
        "sns.countplot(test_df.label);"
      ],
      "execution_count": 17,
      "outputs": [
        {
          "output_type": "display_data",
          "data": {
            "image/png": "[encoded data removed]",
            "text/plain": [
              "<Figure size 720x360 with 2 Axes>"
            ]
          },
          "metadata": {
            "tags": [],
            "needs_background": "light"
          }
        }
      ]
    },
    {
      "cell_type": "code",
      "metadata": {
        "id": "H7DYnL4U180f",
        "colab_type": "code",
        "outputId": "db86ebcb-a687-4103-cb1c-7cca03f3be1b",
        "colab": {
          "base_uri": "https://localhost:8080/",
          "height": 204
        }
      },
      "source": [
        "train_df.label.value_counts()"
      ],
      "execution_count": 18,
      "outputs": [
        {
          "output_type": "execute_result",
          "data": {
            "text/plain": [
              "dancing        4858\n",
              "bicycling      4765\n",
              "drawing        3911\n",
              "discussing     3753\n",
              "smoking        3728\n",
              "exercising     2679\n",
              "punching       2535\n",
              "telephoning    2271\n",
              "typing         2120\n",
              "shooting       1793\n",
              "Name: label, dtype: int64"
            ]
          },
          "metadata": {
            "tags": []
          },
          "execution_count": 18
        }
      ]
    },
    {
      "cell_type": "code",
      "metadata": {
        "id": "vDkueKRLy575",
        "colab_type": "code",
        "colab": {}
      },
      "source": [
        "train_df['filename'] = root_path+'training/' + train_df.filename\n",
        "test_df['filename'] = root_path+'validation/' + test_df.filename\n",
        "\n",
        "train_df['label'] = train_df.label.map({class_: ind for ind, class_ in enumerate(target_classes)})\n",
        "test_df['label'] = test_df.label.map({class_: ind for ind, class_ in enumerate(target_classes)})\n",
        "# classes = train_df['label'].unique()\n",
        "# train_df['label'] = train_df.label.map({class_: ind for ind, class_ in enumerate(classes)})\n",
        "# test_df['label'] = test_df.label.map({class_: ind for ind, class_ in enumerate(classes)})\n",
        "\n",
        "dataset_IDs = {'train': train_df.filename.values,\n",
        "               'test': test_df.filename.values,\n",
        "              }\n",
        "labels = {}\n",
        "for filename, label in train_df[['filename', 'label']].values:\n",
        "    labels[filename] = label\n",
        "for filename, label in test_df[['filename', 'label']].values:\n",
        "    labels[filename] = label"
      ],
      "execution_count": 0,
      "outputs": []
    },
    {
      "cell_type": "markdown",
      "metadata": {
        "id": "zaB-834vG00h",
        "colab_type": "text"
      },
      "source": [
        "## Frame extractor"
      ]
    },
    {
      "cell_type": "code",
      "metadata": {
        "id": "xynvELCj8w-z",
        "colab_type": "code",
        "colab": {}
      },
      "source": [
        "image_shape = (224,224)\n",
        "len_seq = 10\n",
        "frame_step = 5\n",
        "def f(ID):\n",
        "    path_to_video = ID.replace('?s=', '_s=')\n",
        "    path_to_image = path_to_video.rsplit('.', 1)[0] +'_%s.png'\n",
        "\n",
        "    cap = cv2.VideoCapture(path_to_video)\n",
        "    \n",
        "    frame_num = cap.get(cv2.CAP_PROP_FRAME_COUNT)\n",
        "    frame_no = (np.random.randint(0, np.min([15, (frame_num - len_seq*(frame_step+1))])))\n",
        "    cap.set(cv2.CAP_PROP_POS_FRAMES, frame_no)\n",
        "\n",
        "    for j in range(len_seq):\n",
        "        \n",
        "        ret, frame = cap.read()\n",
        "        #frame = cv2.resize(frame, image_shape, interpolation=cv2.INTER_AREA)\n",
        "        temp_path = path_to_image % (j)\n",
        "        cv2.imwrite(temp_path, frame)\n",
        "\n",
        "        #dataset_IDs_images[set_type].append(temp_path)\n",
        "        #labels_images[temp_path] = labels[ID]\n",
        "\n",
        "        for _ in range(frame_step):\n",
        "            _, _ = cap.read()\n",
        "\n",
        "    cap.release()\n",
        "    return True"
      ],
      "execution_count": 0,
      "outputs": []
    },
    {
      "cell_type": "code",
      "metadata": {
        "id": "dM61KWYy-4pS",
        "colab_type": "code",
        "outputId": "50ad8014-a3e8-450f-8745-2c6417c00889",
        "colab": {
          "base_uri": "https://localhost:8080/",
          "height": 49,
          "referenced_widgets": [
            "aad9d6417fb9497498a4da6c6e85db98",
            "291e82fe6f3a4342911504787d5b8e9c",
            "dc0f60fe547147fe944e7ce12ff628f5",
            "251978ad7aed4a46a9bad1512da65e5e",
            "3134b233bdaf46739b2f32db9654788a",
            "43348be4dd9241a89d705f66197988f6",
            "32955826a6524a3bacb4362ef510c297",
            "12dcd54eb9c84df9b871f0eaf501d80f",
            "b08a838b6afc4bac9f29f09f604f8322"
          ]
        }
      },
      "source": [
        "p=mp.Pool(8)\n",
        "for set_type, set_paths in dataset_IDs.items():\n",
        "    for i in tqdm(p.imap(f,set_paths), total=len(set_paths), position=0):\n",
        "        pass"
      ],
      "execution_count": 0,
      "outputs": [
        {
          "output_type": "display_data",
          "data": {
            "application/vnd.jupyter.widget-view+json": {
              "model_id": "aad9d6417fb9497498a4da6c6e85db98",
              "version_minor": 0,
              "version_major": 2
            },
            "text/plain": [
              "HBox(children=(FloatProgress(value=0.0, max=32413.0), HTML(value='')))"
            ]
          },
          "metadata": {
            "tags": []
          }
        },
        {
          "output_type": "stream",
          "text": [
            "\n"
          ],
          "name": "stdout"
        },
        {
          "output_type": "display_data",
          "data": {
            "application/vnd.jupyter.widget-view+json": {
              "model_id": "b08a838b6afc4bac9f29f09f604f8322",
              "version_minor": 0,
              "version_major": 2
            },
            "text/plain": [
              "HBox(children=(FloatProgress(value=0.0, max=1000.0), HTML(value='')))"
            ]
          },
          "metadata": {
            "tags": []
          }
        },
        {
          "output_type": "stream",
          "text": [
            "\n"
          ],
          "name": "stdout"
        }
      ]
    },
    {
      "cell_type": "markdown",
      "metadata": {
        "id": "gii875nd1ji8",
        "colab_type": "text"
      },
      "source": [
        "# CNN+LSTM"
      ]
    },
    {
      "cell_type": "markdown",
      "metadata": {
        "id": "tLefktrk1nRX",
        "colab_type": "text"
      },
      "source": [
        "## Data generator"
      ]
    },
    {
      "cell_type": "code",
      "metadata": {
        "id": "I1wBRuL21rJx",
        "colab_type": "code",
        "colab": {}
      },
      "source": [
        "class DataGenerator(tf.keras.utils.Sequence):\n",
        "    'Generates data for Keras'\n",
        "    def __init__(self, list_IDs, labels, \n",
        "                 batch_size=32, image_shape=(299,299), n_channels=3, len_seq = 30,\n",
        "                 frame_step=1,\n",
        "                 n_classes=10, shuffle=True, resizing=False, interpolation=cv2.INTER_AREA):\n",
        "        'Initialization'\n",
        "        self.image_shape = image_shape\n",
        "        self.batch_size = batch_size\n",
        "        self.labels = labels\n",
        "        self.list_IDs = list_IDs\n",
        "        self.n_channels = n_channels\n",
        "        self.n_classes = n_classes\n",
        "        self.shuffle = shuffle\n",
        "        self.resizing = resizing\n",
        "        self.len_seq = len_seq\n",
        "        self.frame_step = frame_step\n",
        "        self.interpolation = interpolation\n",
        "        self.on_epoch_end()\n",
        "        print('Size of generator:', len(self.list_IDs))\n",
        "\n",
        "    def __len__(self):\n",
        "        'Denotes the number of batches per epoch'\n",
        "        return int(np.floor(len(self.list_IDs) / self.batch_size))\n",
        "\n",
        "    def __getitem__(self, index):\n",
        "        'Generate one batch of data'\n",
        "        # Generate indexes of the batch\n",
        "        indexes = self.indexes[index*self.batch_size:(index+1)*self.batch_size]\n",
        "\n",
        "        # Find list of IDs\n",
        "        list_IDs_temp = [self.list_IDs[k] for k in indexes]\n",
        "\n",
        "        # Generate data\n",
        "        X, y = self.__data_generation(list_IDs_temp)\n",
        "\n",
        "        return X, y\n",
        "\n",
        "    def on_epoch_end(self):\n",
        "        'Updates indexes after each epoch'\n",
        "        self.indexes = np.arange(len(self.list_IDs))\n",
        "        if self.shuffle == True:\n",
        "            np.random.shuffle(self.indexes)\n",
        "\n",
        "    # def __data_generation(self, list_IDs_temp):\n",
        "    #     'Generates data containing batch_size samples' # X : (n_samples, *dim, n_channels)\n",
        "    #     # Initialization\n",
        "    #     X = np.empty((self.batch_size, self.len_seq, *self.image_shape, self.n_channels))\n",
        "    #     y = np.empty((self.batch_size), dtype=int)\n",
        "\n",
        "    #     # Generate data\n",
        "    #     for i, ID in enumerate(list_IDs_temp):\n",
        "    #         # Store sample\n",
        "            \n",
        "    #         cap = cv2.VideoCapture(ID.replace('?s=', '_s='))\n",
        "            \n",
        "    #         frame_num = cap.get(cv2.CAP_PROP_FRAME_COUNT)\n",
        "    #         frame_no = (np.random.randint(0, np.min([15, (frame_num - self.len_seq*(self.frame_step+1))])))\n",
        "    #         cap.set(cv2.CAP_PROP_POS_FRAMES, frame_no)\n",
        "    #         for j in range(self.len_seq):\n",
        "                \n",
        "    #             ret, frame = cap.read()\n",
        "    #             if ret:\n",
        "    #                 X[i, j,] = cv2.resize(cv2.cvtColor(frame, cv2.COLOR_BGR2RGB), \n",
        "    #                                          self.image_shape, \n",
        "    #                                          interpolation=self.interpolation)\n",
        "    #             for _ in range(self.frame_step):\n",
        "    #                 _, _ = cap.read()\n",
        "\n",
        "    #         cap.release()\n",
        "    #         # Store class\n",
        "    #         X[i] = preprocess_input(X[i])\n",
        "    #         y[i] = self.labels[ID]\n",
        "    #     #X = np.transpose(X, (0,2,3,1,4))\n",
        "    #     return X, to_categorical(y, num_classes=self.n_classes)\n",
        "\n",
        "    def __data_generation(self, list_IDs_temp):\n",
        "        'Generates data containing batch_size samples' # X : (n_samples, *dim, n_channels)\n",
        "        # Initialization\n",
        "\n",
        "        X = np.empty((self.batch_size, self.len_seq, *self.image_shape, self.n_channels))\n",
        "        X_flow = np.empty((self.batch_size, self.len_seq, *self.image_shape, self.n_channels))\n",
        "        y = np.empty((self.batch_size), dtype=int)\n",
        "\n",
        "        # Generate data\n",
        "        for i, ID in enumerate(list_IDs_temp):\n",
        "            # Store sample\n",
        "            path_to_video = ID.replace('?s=', '_s=')\n",
        "            path_to_image = path_to_video.rsplit('.', 1)[0] +'_%s.png'\n",
        "\n",
        "            x_indent = np.random.randint(0, 256-self.image_shape[1])\n",
        "            y_indent = np.random.randint(0, 256-self.image_shape[0])\n",
        "            \n",
        "            flip_flag = np.random.choice(['no_flip', 'horiz_flip'], 1)[0]\n",
        "\n",
        "            for j in range(self.len_seq):\n",
        "                # frame = cv2.imread(path_to_image % (j))\n",
        "                # X[i, j,] = cv2.cvtColor(frame, cv2.COLOR_BGR2RGB)\n",
        "                img = image.load_img(path_to_image % (j))\n",
        "                x = image.img_to_array(img)[y_indent:self.image_shape[0]+y_indent,\n",
        "                                            x_indent:self.image_shape[1]+x_indent]\n",
        "                \n",
        "                if flip_flag == 'horiz_flip':\n",
        "                    x = np.fliplr(x)\n",
        "\n",
        "                X[i, j,] = x\n",
        "            X[i] = preprocess_input(X[i])\n",
        "            y[i] = self.labels[ID]\n",
        "        #X = np.transpose(X, (0,2,3,1,4))\n",
        "        #return X, to_categorical(y, num_classes=self.n_classes)\n",
        "        return X, to_categorical(y, num_classes=self.n_classes)\n",
        "\n",
        "    \n",
        "\n"
      ],
      "execution_count": 0,
      "outputs": []
    },
    {
      "cell_type": "markdown",
      "metadata": {
        "id": "4CBWx5ZZ1rkz",
        "colab_type": "text"
      },
      "source": [
        "## Model"
      ]
    },
    {
      "cell_type": "code",
      "metadata": {
        "id": "S9mfdM0Ay579",
        "colab_type": "code",
        "outputId": "8862a368-3fe2-4a81-b712-c72da077c7d4",
        "colab": {
          "base_uri": "https://localhost:8080/",
          "height": 51
        }
      },
      "source": [
        "image_shape = (224,224)\n",
        "len_seq = 10\n",
        "frame_step = 5\n",
        "n_channels = 3\n",
        "n_classes = train_df.label.unique().shape[0]\n",
        "params = {'image_shape': image_shape,\n",
        "          'batch_size': 16,\n",
        "          'n_classes': n_classes,\n",
        "          'len_seq': len_seq,\n",
        "          'frame_step': frame_step,\n",
        "          'n_channels': n_channels,\n",
        "          'shuffle': True}\n",
        "\n",
        "# Generators\n",
        "training_generator = DataGenerator(dataset_IDs['train'], labels, **params)\n",
        "validation_generator = DataGenerator(dataset_IDs['test'], labels, **params)"
      ],
      "execution_count": 23,
      "outputs": [
        {
          "output_type": "stream",
          "text": [
            "Size of generator: 32413\n",
            "Size of generator: 1000\n"
          ],
          "name": "stdout"
        }
      ]
    },
    {
      "cell_type": "code",
      "metadata": {
        "id": "k___7155ykE4",
        "colab_type": "code",
        "colab": {}
      },
      "source": [
        "path_to_save_model = os.path.join(root_path_models, 'mobnet_2xlstm128_new_classes')\n",
        "if not os.path.exists(path_to_save_model):\n",
        "    os.mkdir(path_to_save_model)"
      ],
      "execution_count": 0,
      "outputs": []
    },
    {
      "cell_type": "code",
      "metadata": {
        "id": "HAC7Tiy6y58B",
        "colab_type": "code",
        "outputId": "15aaae63-3024-4522-db18-beb57d125172",
        "colab": {
          "base_uri": "https://localhost:8080/",
          "height": 391
        }
      },
      "source": [
        "seqShape = (len_seq, *image_shape,n_channels)\n",
        "inputs = Input(seqShape)\n",
        "\n",
        "base_model = MobileNetV2(weights='imagenet',include_top=False, input_shape=(*image_shape,n_channels))\n",
        "outputs = TimeDistributed(base_model)(inputs)\n",
        "\n",
        "x = TimeDistributed(GlobalAveragePooling2D())(outputs)\n",
        "x = LSTM(128, dropout=0.5, return_sequences=True)(x)\n",
        "x = LSTM(128)(x)\n",
        "preds = Dense(training_generator.n_classes, activation='softmax')(x)\n",
        "\n",
        "model = Model(inputs,preds)\n",
        "model.summary()"
      ],
      "execution_count": 25,
      "outputs": [
        {
          "output_type": "stream",
          "text": [
            "Downloading data from https://github.com/JonathanCMitchell/mobilenet_v2_keras/releases/download/v1.1/mobilenet_v2_weights_tf_dim_ordering_tf_kernels_1.0_224_no_top.h5\n",
            "9412608/9406464 [==============================] - 1s 0us/step\n",
            "Model: \"model_1\"\n",
            "_________________________________________________________________\n",
            "Layer (type)                 Output Shape              Param #   \n",
            "=================================================================\n",
            "input_1 (InputLayer)         (None, 10, 224, 224, 3)   0         \n",
            "_________________________________________________________________\n",
            "time_distributed_1 (TimeDist (None, 10, 7, 7, 1280)    2257984   \n",
            "_________________________________________________________________\n",
            "time_distributed_2 (TimeDist (None, 10, 1280)          0         \n",
            "_________________________________________________________________\n",
            "lstm_1 (LSTM)                (None, 10, 128)           721408    \n",
            "_________________________________________________________________\n",
            "lstm_2 (LSTM)                (None, 128)               131584    \n",
            "_________________________________________________________________\n",
            "dense_1 (Dense)              (None, 10)                1290      \n",
            "=================================================================\n",
            "Total params: 3,112,266\n",
            "Trainable params: 3,078,154\n",
            "Non-trainable params: 34,112\n",
            "_________________________________________________________________\n"
          ],
          "name": "stdout"
        }
      ]
    },
    {
      "cell_type": "code",
      "metadata": {
        "scrolled": true,
        "id": "0rIdqsgky58L",
        "colab_type": "code",
        "colab": {}
      },
      "source": [
        "#base_model.summary()"
      ],
      "execution_count": 0,
      "outputs": []
    },
    {
      "cell_type": "code",
      "metadata": {
        "id": "Sct0brQ7y58R",
        "colab_type": "code",
        "outputId": "7df2a39c-7965-420e-e4c6-e8d13c4d5a1d",
        "colab": {
          "base_uri": "https://localhost:8080/",
          "height": 170
        }
      },
      "source": [
        "for i, layer in enumerate(base_model.layers):\n",
        "    if '15' in layer.name:\n",
        "        print(i, layer.name)"
      ],
      "execution_count": 27,
      "outputs": [
        {
          "output_type": "stream",
          "text": [
            "135 block_15_expand\n",
            "136 block_15_expand_BN\n",
            "137 block_15_expand_relu\n",
            "138 block_15_depthwise\n",
            "139 block_15_depthwise_BN\n",
            "140 block_15_depthwise_relu\n",
            "141 block_15_project\n",
            "142 block_15_project_BN\n",
            "143 block_15_add\n"
          ],
          "name": "stdout"
        }
      ]
    },
    {
      "cell_type": "code",
      "metadata": {
        "id": "a0EJTdw5y58V",
        "colab_type": "code",
        "colab": {}
      },
      "source": [
        "for layer in base_model.layers:\n",
        "        layer.trainable = False\n",
        "\n",
        "top_weights_path = '/content/drive/My Drive/roonyx_models/mobnet_2xlstm128_new_classes/only_classifier-20-0.56.h5'\n",
        "model.load_weights(top_weights_path)\n",
        "\n",
        "model.compile(optimizer=Adam(0.001),\n",
        "              loss='categorical_crossentropy',\n",
        "              metrics=['accuracy'])\n",
        "\n",
        "#model.summary()"
      ],
      "execution_count": 0,
      "outputs": []
    },
    {
      "cell_type": "code",
      "metadata": {
        "id": "tPZYqyURX4om",
        "colab_type": "code",
        "colab": {}
      },
      "source": [
        "top_weights_path = path_to_save_model + '/only_classifier-{epoch:02d}-{val_accuracy:.2f}.h5'\n",
        "callbacks_list = [\n",
        "    ModelCheckpoint(top_weights_path, monitor='val_accuracy', verbose=1, save_best_only=True),\n",
        "    #EarlyStopping(monitor='val_accuracy', patience=10, verbose=0)\n",
        "]"
      ],
      "execution_count": 0,
      "outputs": []
    },
    {
      "cell_type": "code",
      "metadata": {
        "id": "w2fc7MFPWwRH",
        "colab_type": "code",
        "colab": {}
      },
      "source": [
        "w = class_weight.compute_class_weight('balanced',  np.unique(train_df.label.values),train_df.label.values)"
      ],
      "execution_count": 0,
      "outputs": []
    },
    {
      "cell_type": "code",
      "metadata": {
        "id": "1hJDT8aGy58g",
        "colab_type": "code",
        "outputId": "30661551-34c7-4c19-b5fd-4271ba6a9ab9",
        "colab": {
          "base_uri": "https://localhost:8080/",
          "height": 1000
        }
      },
      "source": [
        "# Train model on dataset\n",
        "history = model.fit_generator(generator=training_generator,\n",
        "                              validation_data=validation_generator,\n",
        "                              epochs=30,\n",
        "                              callbacks=callbacks_list,\n",
        "                              class_weight=w)"
      ],
      "execution_count": 31,
      "outputs": [
        {
          "output_type": "stream",
          "text": [
            "Epoch 1/30\n",
            "2025/2025 [==============================] - 1562s 771ms/step - loss: 0.9743 - accuracy: 0.6731 - val_loss: 1.8854 - val_accuracy: 0.5544\n",
            "\n",
            "Epoch 00001: val_accuracy improved from -inf to 0.55444, saving model to /content/drive/My Drive/roonyx_models/mobnet_2xlstm128_new_classes/only_classifier-01-0.55.h5\n",
            "Epoch 2/30\n",
            "2025/2025 [==============================] - 1569s 775ms/step - loss: 0.9644 - accuracy: 0.6757 - val_loss: 1.5317 - val_accuracy: 0.5544\n",
            "\n",
            "Epoch 00002: val_accuracy did not improve from 0.55444\n",
            "Epoch 3/30\n",
            "2025/2025 [==============================] - 1541s 761ms/step - loss: 0.9688 - accuracy: 0.6754 - val_loss: 1.4495 - val_accuracy: 0.5383\n",
            "\n",
            "Epoch 00003: val_accuracy did not improve from 0.55444\n",
            "Epoch 4/30\n",
            "2025/2025 [==============================] - 1525s 753ms/step - loss: 0.9647 - accuracy: 0.6768 - val_loss: 2.1193 - val_accuracy: 0.5514\n",
            "\n",
            "Epoch 00004: val_accuracy did not improve from 0.55444\n",
            "Epoch 5/30\n",
            "2025/2025 [==============================] - 1540s 760ms/step - loss: 0.9558 - accuracy: 0.6755 - val_loss: 1.5677 - val_accuracy: 0.5534\n",
            "\n",
            "Epoch 00005: val_accuracy did not improve from 0.55444\n",
            "Epoch 6/30\n",
            "2025/2025 [==============================] - 1539s 760ms/step - loss: 0.9526 - accuracy: 0.6799 - val_loss: 1.5408 - val_accuracy: 0.5675\n",
            "\n",
            "Epoch 00006: val_accuracy improved from 0.55444 to 0.56754, saving model to /content/drive/My Drive/roonyx_models/mobnet_2xlstm128_new_classes/only_classifier-06-0.57.h5\n",
            "Epoch 7/30\n",
            "2025/2025 [==============================] - 1523s 752ms/step - loss: 0.9518 - accuracy: 0.6804 - val_loss: 1.2291 - val_accuracy: 0.5575\n",
            "\n",
            "Epoch 00007: val_accuracy did not improve from 0.56754\n",
            "Epoch 8/30\n",
            "2025/2025 [==============================] - 1539s 760ms/step - loss: 0.9524 - accuracy: 0.6787 - val_loss: 1.0792 - val_accuracy: 0.5585\n",
            "\n",
            "Epoch 00008: val_accuracy did not improve from 0.56754\n",
            "Epoch 9/30\n",
            "2025/2025 [==============================] - 1517s 749ms/step - loss: 0.9421 - accuracy: 0.6836 - val_loss: 1.2042 - val_accuracy: 0.5685\n",
            "\n",
            "Epoch 00009: val_accuracy improved from 0.56754 to 0.56855, saving model to /content/drive/My Drive/roonyx_models/mobnet_2xlstm128_new_classes/only_classifier-09-0.57.h5\n",
            "Epoch 10/30\n",
            "2025/2025 [==============================] - 1513s 747ms/step - loss: 0.9375 - accuracy: 0.6830 - val_loss: 2.1875 - val_accuracy: 0.5484\n",
            "\n",
            "Epoch 00010: val_accuracy did not improve from 0.56855\n",
            "Epoch 11/30\n",
            "2025/2025 [==============================] - 1526s 753ms/step - loss: 0.9365 - accuracy: 0.6867 - val_loss: 1.3136 - val_accuracy: 0.5524\n",
            "\n",
            "Epoch 00011: val_accuracy did not improve from 0.56855\n",
            "Epoch 12/30\n",
            "2025/2025 [==============================] - 1518s 750ms/step - loss: 0.9406 - accuracy: 0.6856 - val_loss: 0.8642 - val_accuracy: 0.5554\n",
            "\n",
            "Epoch 00012: val_accuracy did not improve from 0.56855\n",
            "Epoch 13/30\n",
            "2025/2025 [==============================] - 1529s 755ms/step - loss: 0.9377 - accuracy: 0.6857 - val_loss: 1.4248 - val_accuracy: 0.5464\n",
            "\n",
            "Epoch 00013: val_accuracy did not improve from 0.56855\n",
            "Epoch 14/30\n",
            "  95/2025 [>.............................] - ETA: 21:59 - loss: 0.9295 - accuracy: 0.6829"
          ],
          "name": "stdout"
        },
        {
          "output_type": "error",
          "ename": "KeyboardInterrupt",
          "evalue": "ignored",
          "traceback": [
            "\u001b[0;31m---------------------------------------------------------------------------\u001b[0m",
            "\u001b[0;31mKeyboardInterrupt\u001b[0m                         Traceback (most recent call last)",
            "\u001b[0;32m<ipython-input-31-4504ff9459a3>\u001b[0m in \u001b[0;36m<module>\u001b[0;34m()\u001b[0m\n\u001b[1;32m      4\u001b[0m                               \u001b[0mepochs\u001b[0m\u001b[0;34m=\u001b[0m\u001b[0;36m30\u001b[0m\u001b[0;34m,\u001b[0m\u001b[0;34m\u001b[0m\u001b[0;34m\u001b[0m\u001b[0m\n\u001b[1;32m      5\u001b[0m                               \u001b[0mcallbacks\u001b[0m\u001b[0;34m=\u001b[0m\u001b[0mcallbacks_list\u001b[0m\u001b[0;34m,\u001b[0m\u001b[0;34m\u001b[0m\u001b[0;34m\u001b[0m\u001b[0m\n\u001b[0;32m----> 6\u001b[0;31m                               class_weight=w)\n\u001b[0m",
            "\u001b[0;32m/usr/local/lib/python3.6/dist-packages/keras/legacy/interfaces.py\u001b[0m in \u001b[0;36mwrapper\u001b[0;34m(*args, **kwargs)\u001b[0m\n\u001b[1;32m     89\u001b[0m                 warnings.warn('Update your `' + object_name + '` call to the ' +\n\u001b[1;32m     90\u001b[0m                               'Keras 2 API: ' + signature, stacklevel=2)\n\u001b[0;32m---> 91\u001b[0;31m             \u001b[0;32mreturn\u001b[0m \u001b[0mfunc\u001b[0m\u001b[0;34m(\u001b[0m\u001b[0;34m*\u001b[0m\u001b[0margs\u001b[0m\u001b[0;34m,\u001b[0m \u001b[0;34m**\u001b[0m\u001b[0mkwargs\u001b[0m\u001b[0;34m)\u001b[0m\u001b[0;34m\u001b[0m\u001b[0;34m\u001b[0m\u001b[0m\n\u001b[0m\u001b[1;32m     92\u001b[0m         \u001b[0mwrapper\u001b[0m\u001b[0;34m.\u001b[0m\u001b[0m_original_function\u001b[0m \u001b[0;34m=\u001b[0m \u001b[0mfunc\u001b[0m\u001b[0;34m\u001b[0m\u001b[0;34m\u001b[0m\u001b[0m\n\u001b[1;32m     93\u001b[0m         \u001b[0;32mreturn\u001b[0m \u001b[0mwrapper\u001b[0m\u001b[0;34m\u001b[0m\u001b[0;34m\u001b[0m\u001b[0m\n",
            "\u001b[0;32m/usr/local/lib/python3.6/dist-packages/keras/engine/training.py\u001b[0m in \u001b[0;36mfit_generator\u001b[0;34m(self, generator, steps_per_epoch, epochs, verbose, callbacks, validation_data, validation_steps, validation_freq, class_weight, max_queue_size, workers, use_multiprocessing, shuffle, initial_epoch)\u001b[0m\n\u001b[1;32m   1730\u001b[0m             \u001b[0muse_multiprocessing\u001b[0m\u001b[0;34m=\u001b[0m\u001b[0muse_multiprocessing\u001b[0m\u001b[0;34m,\u001b[0m\u001b[0;34m\u001b[0m\u001b[0;34m\u001b[0m\u001b[0m\n\u001b[1;32m   1731\u001b[0m             \u001b[0mshuffle\u001b[0m\u001b[0;34m=\u001b[0m\u001b[0mshuffle\u001b[0m\u001b[0;34m,\u001b[0m\u001b[0;34m\u001b[0m\u001b[0;34m\u001b[0m\u001b[0m\n\u001b[0;32m-> 1732\u001b[0;31m             initial_epoch=initial_epoch)\n\u001b[0m\u001b[1;32m   1733\u001b[0m \u001b[0;34m\u001b[0m\u001b[0m\n\u001b[1;32m   1734\u001b[0m     \u001b[0;34m@\u001b[0m\u001b[0minterfaces\u001b[0m\u001b[0;34m.\u001b[0m\u001b[0mlegacy_generator_methods_support\u001b[0m\u001b[0;34m\u001b[0m\u001b[0;34m\u001b[0m\u001b[0m\n",
            "\u001b[0;32m/usr/local/lib/python3.6/dist-packages/keras/engine/training_generator.py\u001b[0m in \u001b[0;36mfit_generator\u001b[0;34m(model, generator, steps_per_epoch, epochs, verbose, callbacks, validation_data, validation_steps, validation_freq, class_weight, max_queue_size, workers, use_multiprocessing, shuffle, initial_epoch)\u001b[0m\n\u001b[1;32m    183\u001b[0m             \u001b[0mbatch_index\u001b[0m \u001b[0;34m=\u001b[0m \u001b[0;36m0\u001b[0m\u001b[0;34m\u001b[0m\u001b[0;34m\u001b[0m\u001b[0m\n\u001b[1;32m    184\u001b[0m             \u001b[0;32mwhile\u001b[0m \u001b[0msteps_done\u001b[0m \u001b[0;34m<\u001b[0m \u001b[0msteps_per_epoch\u001b[0m\u001b[0;34m:\u001b[0m\u001b[0;34m\u001b[0m\u001b[0;34m\u001b[0m\u001b[0m\n\u001b[0;32m--> 185\u001b[0;31m                 \u001b[0mgenerator_output\u001b[0m \u001b[0;34m=\u001b[0m \u001b[0mnext\u001b[0m\u001b[0;34m(\u001b[0m\u001b[0moutput_generator\u001b[0m\u001b[0;34m)\u001b[0m\u001b[0;34m\u001b[0m\u001b[0;34m\u001b[0m\u001b[0m\n\u001b[0m\u001b[1;32m    186\u001b[0m \u001b[0;34m\u001b[0m\u001b[0m\n\u001b[1;32m    187\u001b[0m                 \u001b[0;32mif\u001b[0m \u001b[0;32mnot\u001b[0m \u001b[0mhasattr\u001b[0m\u001b[0;34m(\u001b[0m\u001b[0mgenerator_output\u001b[0m\u001b[0;34m,\u001b[0m \u001b[0;34m'__len__'\u001b[0m\u001b[0;34m)\u001b[0m\u001b[0;34m:\u001b[0m\u001b[0;34m\u001b[0m\u001b[0;34m\u001b[0m\u001b[0m\n",
            "\u001b[0;32m/usr/local/lib/python3.6/dist-packages/keras/utils/data_utils.py\u001b[0m in \u001b[0;36mget\u001b[0;34m(self)\u001b[0m\n\u001b[1;32m    608\u001b[0m                 \u001b[0;32mtry\u001b[0m\u001b[0;34m:\u001b[0m\u001b[0;34m\u001b[0m\u001b[0;34m\u001b[0m\u001b[0m\n\u001b[1;32m    609\u001b[0m                     \u001b[0mfuture\u001b[0m \u001b[0;34m=\u001b[0m \u001b[0mself\u001b[0m\u001b[0;34m.\u001b[0m\u001b[0mqueue\u001b[0m\u001b[0;34m.\u001b[0m\u001b[0mget\u001b[0m\u001b[0;34m(\u001b[0m\u001b[0mblock\u001b[0m\u001b[0;34m=\u001b[0m\u001b[0;32mTrue\u001b[0m\u001b[0;34m)\u001b[0m\u001b[0;34m\u001b[0m\u001b[0;34m\u001b[0m\u001b[0m\n\u001b[0;32m--> 610\u001b[0;31m                     \u001b[0minputs\u001b[0m \u001b[0;34m=\u001b[0m \u001b[0mfuture\u001b[0m\u001b[0;34m.\u001b[0m\u001b[0mget\u001b[0m\u001b[0;34m(\u001b[0m\u001b[0mtimeout\u001b[0m\u001b[0;34m=\u001b[0m\u001b[0;36m30\u001b[0m\u001b[0;34m)\u001b[0m\u001b[0;34m\u001b[0m\u001b[0;34m\u001b[0m\u001b[0m\n\u001b[0m\u001b[1;32m    611\u001b[0m                 \u001b[0;32mexcept\u001b[0m \u001b[0mmp\u001b[0m\u001b[0;34m.\u001b[0m\u001b[0mTimeoutError\u001b[0m\u001b[0;34m:\u001b[0m\u001b[0;34m\u001b[0m\u001b[0;34m\u001b[0m\u001b[0m\n\u001b[1;32m    612\u001b[0m                     \u001b[0midx\u001b[0m \u001b[0;34m=\u001b[0m \u001b[0mfuture\u001b[0m\u001b[0;34m.\u001b[0m\u001b[0midx\u001b[0m\u001b[0;34m\u001b[0m\u001b[0;34m\u001b[0m\u001b[0m\n",
            "\u001b[0;32m/usr/lib/python3.6/multiprocessing/pool.py\u001b[0m in \u001b[0;36mget\u001b[0;34m(self, timeout)\u001b[0m\n\u001b[1;32m    636\u001b[0m \u001b[0;34m\u001b[0m\u001b[0m\n\u001b[1;32m    637\u001b[0m     \u001b[0;32mdef\u001b[0m \u001b[0mget\u001b[0m\u001b[0;34m(\u001b[0m\u001b[0mself\u001b[0m\u001b[0;34m,\u001b[0m \u001b[0mtimeout\u001b[0m\u001b[0;34m=\u001b[0m\u001b[0;32mNone\u001b[0m\u001b[0;34m)\u001b[0m\u001b[0;34m:\u001b[0m\u001b[0;34m\u001b[0m\u001b[0;34m\u001b[0m\u001b[0m\n\u001b[0;32m--> 638\u001b[0;31m         \u001b[0mself\u001b[0m\u001b[0;34m.\u001b[0m\u001b[0mwait\u001b[0m\u001b[0;34m(\u001b[0m\u001b[0mtimeout\u001b[0m\u001b[0;34m)\u001b[0m\u001b[0;34m\u001b[0m\u001b[0;34m\u001b[0m\u001b[0m\n\u001b[0m\u001b[1;32m    639\u001b[0m         \u001b[0;32mif\u001b[0m \u001b[0;32mnot\u001b[0m \u001b[0mself\u001b[0m\u001b[0;34m.\u001b[0m\u001b[0mready\u001b[0m\u001b[0;34m(\u001b[0m\u001b[0;34m)\u001b[0m\u001b[0;34m:\u001b[0m\u001b[0;34m\u001b[0m\u001b[0;34m\u001b[0m\u001b[0m\n\u001b[1;32m    640\u001b[0m             \u001b[0;32mraise\u001b[0m \u001b[0mTimeoutError\u001b[0m\u001b[0;34m\u001b[0m\u001b[0;34m\u001b[0m\u001b[0m\n",
            "\u001b[0;32m/usr/lib/python3.6/multiprocessing/pool.py\u001b[0m in \u001b[0;36mwait\u001b[0;34m(self, timeout)\u001b[0m\n\u001b[1;32m    633\u001b[0m \u001b[0;34m\u001b[0m\u001b[0m\n\u001b[1;32m    634\u001b[0m     \u001b[0;32mdef\u001b[0m \u001b[0mwait\u001b[0m\u001b[0;34m(\u001b[0m\u001b[0mself\u001b[0m\u001b[0;34m,\u001b[0m \u001b[0mtimeout\u001b[0m\u001b[0;34m=\u001b[0m\u001b[0;32mNone\u001b[0m\u001b[0;34m)\u001b[0m\u001b[0;34m:\u001b[0m\u001b[0;34m\u001b[0m\u001b[0;34m\u001b[0m\u001b[0m\n\u001b[0;32m--> 635\u001b[0;31m         \u001b[0mself\u001b[0m\u001b[0;34m.\u001b[0m\u001b[0m_event\u001b[0m\u001b[0;34m.\u001b[0m\u001b[0mwait\u001b[0m\u001b[0;34m(\u001b[0m\u001b[0mtimeout\u001b[0m\u001b[0;34m)\u001b[0m\u001b[0;34m\u001b[0m\u001b[0;34m\u001b[0m\u001b[0m\n\u001b[0m\u001b[1;32m    636\u001b[0m \u001b[0;34m\u001b[0m\u001b[0m\n\u001b[1;32m    637\u001b[0m     \u001b[0;32mdef\u001b[0m \u001b[0mget\u001b[0m\u001b[0;34m(\u001b[0m\u001b[0mself\u001b[0m\u001b[0;34m,\u001b[0m \u001b[0mtimeout\u001b[0m\u001b[0;34m=\u001b[0m\u001b[0;32mNone\u001b[0m\u001b[0;34m)\u001b[0m\u001b[0;34m:\u001b[0m\u001b[0;34m\u001b[0m\u001b[0;34m\u001b[0m\u001b[0m\n",
            "\u001b[0;32m/usr/lib/python3.6/threading.py\u001b[0m in \u001b[0;36mwait\u001b[0;34m(self, timeout)\u001b[0m\n\u001b[1;32m    549\u001b[0m             \u001b[0msignaled\u001b[0m \u001b[0;34m=\u001b[0m \u001b[0mself\u001b[0m\u001b[0;34m.\u001b[0m\u001b[0m_flag\u001b[0m\u001b[0;34m\u001b[0m\u001b[0;34m\u001b[0m\u001b[0m\n\u001b[1;32m    550\u001b[0m             \u001b[0;32mif\u001b[0m \u001b[0;32mnot\u001b[0m \u001b[0msignaled\u001b[0m\u001b[0;34m:\u001b[0m\u001b[0;34m\u001b[0m\u001b[0;34m\u001b[0m\u001b[0m\n\u001b[0;32m--> 551\u001b[0;31m                 \u001b[0msignaled\u001b[0m \u001b[0;34m=\u001b[0m \u001b[0mself\u001b[0m\u001b[0;34m.\u001b[0m\u001b[0m_cond\u001b[0m\u001b[0;34m.\u001b[0m\u001b[0mwait\u001b[0m\u001b[0;34m(\u001b[0m\u001b[0mtimeout\u001b[0m\u001b[0;34m)\u001b[0m\u001b[0;34m\u001b[0m\u001b[0;34m\u001b[0m\u001b[0m\n\u001b[0m\u001b[1;32m    552\u001b[0m             \u001b[0;32mreturn\u001b[0m \u001b[0msignaled\u001b[0m\u001b[0;34m\u001b[0m\u001b[0;34m\u001b[0m\u001b[0m\n\u001b[1;32m    553\u001b[0m \u001b[0;34m\u001b[0m\u001b[0m\n",
            "\u001b[0;32m/usr/lib/python3.6/threading.py\u001b[0m in \u001b[0;36mwait\u001b[0;34m(self, timeout)\u001b[0m\n\u001b[1;32m    297\u001b[0m             \u001b[0;32melse\u001b[0m\u001b[0;34m:\u001b[0m\u001b[0;34m\u001b[0m\u001b[0;34m\u001b[0m\u001b[0m\n\u001b[1;32m    298\u001b[0m                 \u001b[0;32mif\u001b[0m \u001b[0mtimeout\u001b[0m \u001b[0;34m>\u001b[0m \u001b[0;36m0\u001b[0m\u001b[0;34m:\u001b[0m\u001b[0;34m\u001b[0m\u001b[0;34m\u001b[0m\u001b[0m\n\u001b[0;32m--> 299\u001b[0;31m                     \u001b[0mgotit\u001b[0m \u001b[0;34m=\u001b[0m \u001b[0mwaiter\u001b[0m\u001b[0;34m.\u001b[0m\u001b[0macquire\u001b[0m\u001b[0;34m(\u001b[0m\u001b[0;32mTrue\u001b[0m\u001b[0;34m,\u001b[0m \u001b[0mtimeout\u001b[0m\u001b[0;34m)\u001b[0m\u001b[0;34m\u001b[0m\u001b[0;34m\u001b[0m\u001b[0m\n\u001b[0m\u001b[1;32m    300\u001b[0m                 \u001b[0;32melse\u001b[0m\u001b[0;34m:\u001b[0m\u001b[0;34m\u001b[0m\u001b[0;34m\u001b[0m\u001b[0m\n\u001b[1;32m    301\u001b[0m                     \u001b[0mgotit\u001b[0m \u001b[0;34m=\u001b[0m \u001b[0mwaiter\u001b[0m\u001b[0;34m.\u001b[0m\u001b[0macquire\u001b[0m\u001b[0;34m(\u001b[0m\u001b[0;32mFalse\u001b[0m\u001b[0;34m)\u001b[0m\u001b[0;34m\u001b[0m\u001b[0;34m\u001b[0m\u001b[0m\n",
            "\u001b[0;31mKeyboardInterrupt\u001b[0m: "
          ]
        }
      ]
    },
    {
      "cell_type": "code",
      "metadata": {
        "id": "D29JIvvWFKGi",
        "colab_type": "code",
        "colab": {}
      },
      "source": [
        ""
      ],
      "execution_count": 0,
      "outputs": []
    },
    {
      "cell_type": "code",
      "metadata": {
        "id": "bM3a9pDPFKBm",
        "colab_type": "code",
        "colab": {}
      },
      "source": [
        ""
      ],
      "execution_count": 0,
      "outputs": []
    },
    {
      "cell_type": "code",
      "metadata": {
        "id": "EFeFFzvJy58l",
        "colab_type": "code",
        "colab": {}
      },
      "source": [
        "top_weights_path = '/content/drive/My Drive/roonyx_models/mobnet_2xlstm128_new_classes/only_classifier-09-0.57.h5'\n",
        "model.load_weights(top_weights_path)"
      ],
      "execution_count": 0,
      "outputs": []
    },
    {
      "cell_type": "code",
      "metadata": {
        "id": "V0JSs9J9y58q",
        "colab_type": "code",
        "colab": {}
      },
      "source": [
        "# for layer in base_model.layers[:135]:\n",
        "#         layer.trainable = False\n",
        "# for layer in base_model.layers[135:]:\n",
        "#     layer.trainable = True\n",
        "for layer in base_model.layers:\n",
        "    layer.trainable = True\n",
        "\n",
        "model.compile(optimizer=Adam(learning_rate=0.0001),\n",
        "            loss='categorical_crossentropy',\n",
        "            metrics=['accuracy'])"
      ],
      "execution_count": 0,
      "outputs": []
    },
    {
      "cell_type": "code",
      "metadata": {
        "id": "ip4hIw1xiVLM",
        "colab_type": "code",
        "colab": {}
      },
      "source": [
        "final_weights_path = path_to_save_model + '/full_model_weights-{epoch:02d}-{val_accuracy:.2f}.h5'\n",
        "callbacks_list = [\n",
        "    ModelCheckpoint(final_weights_path, monitor='val_accuracy', verbose=1, save_best_only=True),\n",
        "    EarlyStopping(monitor='val_loss', patience=10, verbose=0)\n",
        "]"
      ],
      "execution_count": 0,
      "outputs": []
    },
    {
      "cell_type": "code",
      "metadata": {
        "id": "cWTbGJAIKfFa",
        "colab_type": "code",
        "outputId": "d778ed6b-e7c9-484a-8059-5bdb18df4463",
        "colab": {
          "base_uri": "https://localhost:8080/",
          "height": 51
        }
      },
      "source": [
        "image_shape = (224,224)\n",
        "len_seq = 10\n",
        "frame_step = 5\n",
        "n_channels = 3\n",
        "params = {'image_shape': image_shape,\n",
        "          'batch_size': 8,\n",
        "          'n_classes': n_classes,\n",
        "          'len_seq': len_seq,\n",
        "          'frame_step': frame_step,\n",
        "          'n_channels': n_channels,\n",
        "          'shuffle': True}\n",
        "\n",
        "# Generators\n",
        "training_generator = DataGenerator(dataset_IDs['train'], labels, **params)\n",
        "validation_generator = DataGenerator(dataset_IDs['test'], labels, **params)"
      ],
      "execution_count": 35,
      "outputs": [
        {
          "output_type": "stream",
          "text": [
            "Size of generator: 32413\n",
            "Size of generator: 1000\n"
          ],
          "name": "stdout"
        }
      ]
    },
    {
      "cell_type": "code",
      "metadata": {
        "id": "5JBvKSsny580",
        "colab_type": "code",
        "colab": {
          "base_uri": "https://localhost:8080/",
          "height": 255
        },
        "outputId": "49f0c3eb-87aa-4eae-b6f5-09b80bea047c"
      },
      "source": [
        "history = model.fit_generator(generator=training_generator,\n",
        "                              validation_data=validation_generator,\n",
        "                              epochs=30,\n",
        "                              callbacks=callbacks_list,\n",
        "                             class_weight=w)"
      ],
      "execution_count": 0,
      "outputs": [
        {
          "output_type": "stream",
          "text": [
            "Epoch 1/30\n",
            "4051/4051 [==============================] - 2783s 687ms/step - loss: 1.0221 - accuracy: 0.6640 - val_loss: 1.6460 - val_accuracy: 0.5620\n",
            "\n",
            "Epoch 00001: val_accuracy improved from -inf to 0.56200, saving model to /content/drive/My Drive/roonyx_models/mobnet_2xlstm128_new_classes/full_model_weights-01-0.56.h5\n",
            "Epoch 2/30\n",
            "4051/4051 [==============================] - 2784s 687ms/step - loss: 0.9016 - accuracy: 0.7071 - val_loss: 1.5119 - val_accuracy: 0.5760\n",
            "\n",
            "Epoch 00002: val_accuracy improved from 0.56200 to 0.57600, saving model to /content/drive/My Drive/roonyx_models/mobnet_2xlstm128_new_classes/full_model_weights-02-0.58.h5\n",
            "Epoch 3/30\n",
            "4051/4051 [==============================] - 2782s 687ms/step - loss: 0.8385 - accuracy: 0.7271 - val_loss: 1.6926 - val_accuracy: 0.5810\n",
            "\n",
            "Epoch 00003: val_accuracy improved from 0.57600 to 0.58100, saving model to /content/drive/My Drive/roonyx_models/mobnet_2xlstm128_new_classes/full_model_weights-03-0.58.h5\n",
            "Epoch 4/30\n",
            "1596/4051 [==========>...................] - ETA: 27:46 - loss: 0.7799 - accuracy: 0.7445"
          ],
          "name": "stdout"
        }
      ]
    },
    {
      "cell_type": "code",
      "metadata": {
        "id": "E0DJToWlibdF",
        "colab_type": "code",
        "colab": {}
      },
      "source": [
        ""
      ],
      "execution_count": 0,
      "outputs": []
    },
    {
      "cell_type": "code",
      "metadata": {
        "id": "tZo-Co77bqg8",
        "colab_type": "code",
        "colab": {}
      },
      "source": [
        "model.save(root_path_models+'/Mobnet_overfitting')"
      ],
      "execution_count": 0,
      "outputs": []
    },
    {
      "cell_type": "code",
      "metadata": {
        "id": "5dRZT_nefKsO",
        "colab_type": "code",
        "colab": {}
      },
      "source": [
        ""
      ],
      "execution_count": 0,
      "outputs": []
    },
    {
      "cell_type": "markdown",
      "metadata": {
        "colab_type": "text",
        "id": "AcAtqy1-mag8"
      },
      "source": [
        "# CNN+LSTM flow"
      ]
    },
    {
      "cell_type": "markdown",
      "metadata": {
        "colab_type": "text",
        "id": "558N-J33mag_"
      },
      "source": [
        "## Data generator"
      ]
    },
    {
      "cell_type": "code",
      "metadata": {
        "colab_type": "code",
        "id": "rnb9sG9NmahA",
        "colab": {}
      },
      "source": [
        "class DataGenerator(tf.keras.utils.Sequence):\n",
        "    'Generates data for Keras'\n",
        "    def __init__(self, list_IDs, labels, \n",
        "                 batch_size=32, image_shape=(299,299), n_channels=3, len_seq = 30,\n",
        "                 frame_step=1,\n",
        "                 n_classes=10, shuffle=True, resizing=False, interpolation=cv2.INTER_AREA):\n",
        "        'Initialization'\n",
        "        self.image_shape = image_shape\n",
        "        self.batch_size = batch_size\n",
        "        self.labels = labels\n",
        "        self.list_IDs = list_IDs\n",
        "        self.n_channels = n_channels\n",
        "        self.n_classes = n_classes\n",
        "        self.shuffle = shuffle\n",
        "        self.resizing = resizing\n",
        "        self.len_seq = len_seq\n",
        "        self.frame_step = frame_step\n",
        "        self.interpolation = interpolation\n",
        "        self.on_epoch_end()\n",
        "        print('Size of generator:', len(self.list_IDs))\n",
        "\n",
        "    def __len__(self):\n",
        "        'Denotes the number of batches per epoch'\n",
        "        return int(np.floor(len(self.list_IDs) / self.batch_size))\n",
        "\n",
        "    def __getitem__(self, index):\n",
        "        'Generate one batch of data'\n",
        "        # Generate indexes of the batch\n",
        "        indexes = self.indexes[index*self.batch_size:(index+1)*self.batch_size]\n",
        "\n",
        "        # Find list of IDs\n",
        "        list_IDs_temp = [self.list_IDs[k] for k in indexes]\n",
        "\n",
        "        # Generate data\n",
        "        X, y = self.__data_generation(list_IDs_temp)\n",
        "\n",
        "        return X, y\n",
        "\n",
        "    def on_epoch_end(self):\n",
        "        'Updates indexes after each epoch'\n",
        "        self.indexes = np.arange(len(self.list_IDs))\n",
        "        if self.shuffle == True:\n",
        "            np.random.shuffle(self.indexes)\n",
        "\n",
        "    # def __data_generation(self, list_IDs_temp):\n",
        "    #     'Generates data containing batch_size samples' # X : (n_samples, *dim, n_channels)\n",
        "    #     # Initialization\n",
        "    #     X = np.empty((self.batch_size, self.len_seq, *self.image_shape, self.n_channels))\n",
        "    #     y = np.empty((self.batch_size), dtype=int)\n",
        "\n",
        "    #     # Generate data\n",
        "    #     for i, ID in enumerate(list_IDs_temp):\n",
        "    #         # Store sample\n",
        "            \n",
        "    #         cap = cv2.VideoCapture(ID.replace('?s=', '_s='))\n",
        "            \n",
        "    #         frame_num = cap.get(cv2.CAP_PROP_FRAME_COUNT)\n",
        "    #         frame_no = (np.random.randint(0, np.min([15, (frame_num - self.len_seq*(self.frame_step+1))])))\n",
        "    #         cap.set(cv2.CAP_PROP_POS_FRAMES, frame_no)\n",
        "    #         for j in range(self.len_seq):\n",
        "                \n",
        "    #             ret, frame = cap.read()\n",
        "    #             if ret:\n",
        "    #                 X[i, j,] = cv2.resize(cv2.cvtColor(frame, cv2.COLOR_BGR2GRAY), \n",
        "    #                                         self.image_shape, \n",
        "    #                                         interpolation=self.interpolation)[:,:, np.newaxis]\n",
        "    #                 #print(X[i, j,].max())\n",
        "    #             for _ in range(self.frame_step):\n",
        "    #                 _, _ = cap.read()\n",
        "\n",
        "    #         cap.release()\n",
        "    #         # Store class\n",
        "    #         y[i] = self.labels[ID]\n",
        "    #     #X = np.transpose(X, (0,2,3,1,4))\n",
        "    #     #return X, to_categorical(y, num_classes=self.n_classes)\n",
        "    #     return X/255., to_categorical(y, num_classes=self.n_classes)\n",
        "\n",
        "    def __data_generation(self, list_IDs_temp):\n",
        "        'Generates data containing batch_size samples' # X : (n_samples, *dim, n_channels)\n",
        "        # Initialization\n",
        "        X = np.empty((self.batch_size, self.len_seq, *self.image_shape, self.n_channels), dtype=np.float32)\n",
        "        X_flow = np.zeros((self.batch_size, self.len_seq, *self.image_shape, self.n_channels), dtype=np.float32)\n",
        "        y = np.empty((self.batch_size), dtype=int)\n",
        "\n",
        "        # Generate data\n",
        "        for i, ID in enumerate(list_IDs_temp):\n",
        "            # Store sample\n",
        "            path_to_video = ID.replace('?s=', '_s=')\n",
        "            path_to_image = path_to_video.rsplit('.', 1)[0] +'_%s.png'\n",
        "            \n",
        "            for j in range(self.len_seq):\n",
        "                # frame = cv2.imread(path_to_image % (j))\n",
        "                # X[i, j,] = cv2.cvtColor(frame, cv2.COLOR_BGR2RGB)\n",
        "                img = image.load_img(path_to_image % (j), target_size=self.image_shape)\n",
        "                x = image.img_to_array(img)\n",
        "                X[i, j,] = x\n",
        "\n",
        "                if j:\n",
        "                    prvs = cv2.cvtColor(X[i,j-1],cv2.COLOR_BGR2GRAY)\n",
        "                    hsv = np.zeros_like(X[i,j-1], dtype=np.float32)\n",
        "                    hsv[...,1] = 255\n",
        "                    next = cv2.cvtColor(X[i,j],cv2.COLOR_BGR2GRAY)\n",
        "                    flow = cv2.calcOpticalFlowFarneback(prvs,next, None, 0.5, 3, 15, 3, 5, 1.2, 0)\n",
        "                    mag, ang = cv2.cartToPolar(flow[...,0], flow[...,1])\n",
        "                    hsv[...,0] = ang*180/np.pi/2\n",
        "                    hsv[...,2] = cv2.normalize(mag,None,0,255,cv2.NORM_MINMAX)\n",
        "                    X_flow[i,j] = cv2.cvtColor(hsv,cv2.COLOR_HSV2RGB)\n",
        "\n",
        "\n",
        "            #X[i] = preprocess_input(X[i])\n",
        "            y[i] = self.labels[ID]\n",
        "        #X = np.transpose(X, (0,2,3,1,4))\n",
        "        #return X, to_categorical(y, num_classes=self.n_classes)\n",
        "        return [X/255.0, X_flow/255.], to_categorical(y, num_classes=self.n_classes)\n",
        "\n",
        "    \n",
        "\n"
      ],
      "execution_count": 0,
      "outputs": []
    },
    {
      "cell_type": "markdown",
      "metadata": {
        "colab_type": "text",
        "id": "2r_n2fdsmahG"
      },
      "source": [
        "## Model"
      ]
    },
    {
      "cell_type": "code",
      "metadata": {
        "colab_type": "code",
        "id": "qxq_wJY9mahH",
        "colab": {}
      },
      "source": [
        ""
      ],
      "execution_count": 0,
      "outputs": []
    },
    {
      "cell_type": "code",
      "metadata": {
        "colab_type": "code",
        "outputId": "1e5a2461-dffa-4179-e02e-ac2af141fdcc",
        "id": "V1NejwrkmahK",
        "colab": {
          "base_uri": "https://localhost:8080/",
          "height": 51
        }
      },
      "source": [
        "image_shape = (224,224)\n",
        "len_seq = 10\n",
        "frame_step = 5\n",
        "n_channels = 3\n",
        "params = {'image_shape': image_shape,\n",
        "          'batch_size': 4,\n",
        "          'n_classes': len(target_classes),\n",
        "          'len_seq': len_seq,\n",
        "          'frame_step': frame_step,\n",
        "          'n_channels': n_channels,\n",
        "          'shuffle': True}\n",
        "\n",
        "# Generators\n",
        "training_generator = DataGenerator(dataset_IDs['train'], labels, **params)\n",
        "validation_generator = DataGenerator(dataset_IDs['test'], labels, **params)"
      ],
      "execution_count": 0,
      "outputs": [
        {
          "output_type": "stream",
          "text": [
            "Size of generator: 4500\n",
            "Size of generator: 450\n"
          ],
          "name": "stdout"
        }
      ]
    },
    {
      "cell_type": "code",
      "metadata": {
        "id": "TobZVFpjz2Zc",
        "colab_type": "code",
        "colab": {}
      },
      "source": [
        "path_to_save_model = os.path.join(root_path_models, 'mobnet_2xlstm_flow')\n",
        "if not os.path.exists(path_to_save_model):\n",
        "    os.mkdir(path_to_save_model)"
      ],
      "execution_count": 0,
      "outputs": []
    },
    {
      "cell_type": "code",
      "metadata": {
        "colab_type": "code",
        "id": "c5MGkEJjmahP",
        "outputId": "292fefb9-3b4a-4891-e8d0-713c8e844376",
        "colab": {
          "base_uri": "https://localhost:8080/",
          "height": 510
        }
      },
      "source": [
        "seqShape = (len_seq, *image_shape,n_channels)\n",
        "inputs = Input(seqShape)\n",
        "base_model = MobileNetV2(weights='imagenet',include_top=False, input_shape=(*image_shape,n_channels))\n",
        "outputs = TimeDistributed(base_model)(inputs)\n",
        "x = TimeDistributed(GlobalAveragePooling2D())(outputs)\n",
        "\n",
        "seqShape = (len_seq, *image_shape,n_channels)\n",
        "inputs1 = Input(seqShape)\n",
        "base_model1 = MobileNetV2(weights='imagenet',include_top=False, input_shape=(*image_shape,n_channels))\n",
        "outputs1 = TimeDistributed(base_model1)(inputs1)\n",
        "x1 = TimeDistributed(GlobalAveragePooling2D())(outputs1)\n",
        "x = Concatenate()([x, x1])\n",
        "x = LSTM(256, return_sequences=True, dropout=0.5)(x)\n",
        "x = LSTM(256, dropout=0.5)(x)\n",
        "preds = Dense(len(target_classes), activation='softmax')(x)\n",
        "\n",
        "model = Model([inputs, inputs1], preds)\n",
        "model.summary()"
      ],
      "execution_count": 0,
      "outputs": [
        {
          "output_type": "stream",
          "text": [
            "Model: \"model_5\"\n",
            "__________________________________________________________________________________________________\n",
            "Layer (type)                    Output Shape         Param #     Connected to                     \n",
            "==================================================================================================\n",
            "input_15 (InputLayer)           (None, 10, 224, 224, 0                                            \n",
            "__________________________________________________________________________________________________\n",
            "input_17 (InputLayer)           (None, 10, 224, 224, 0                                            \n",
            "__________________________________________________________________________________________________\n",
            "time_distributed_15 (TimeDistri (None, 10, 7, 7, 128 2257984     input_15[0][0]                   \n",
            "__________________________________________________________________________________________________\n",
            "time_distributed_17 (TimeDistri (None, 10, 7, 7, 128 2257984     input_17[0][0]                   \n",
            "__________________________________________________________________________________________________\n",
            "time_distributed_16 (TimeDistri (None, 10, 1280)     0           time_distributed_15[0][0]        \n",
            "__________________________________________________________________________________________________\n",
            "time_distributed_18 (TimeDistri (None, 10, 1280)     0           time_distributed_17[0][0]        \n",
            "__________________________________________________________________________________________________\n",
            "concatenate_4 (Concatenate)     (None, 10, 2560)     0           time_distributed_16[0][0]        \n",
            "                                                                 time_distributed_18[0][0]        \n",
            "__________________________________________________________________________________________________\n",
            "lstm_9 (LSTM)                   (None, 10, 256)      2884608     concatenate_4[0][0]              \n",
            "__________________________________________________________________________________________________\n",
            "lstm_10 (LSTM)                  (None, 256)          525312      lstm_9[0][0]                     \n",
            "__________________________________________________________________________________________________\n",
            "dense_5 (Dense)                 (None, 10)           2570        lstm_10[0][0]                    \n",
            "==================================================================================================\n",
            "Total params: 7,928,458\n",
            "Trainable params: 7,860,234\n",
            "Non-trainable params: 68,224\n",
            "__________________________________________________________________________________________________\n"
          ],
          "name": "stdout"
        }
      ]
    },
    {
      "cell_type": "code",
      "metadata": {
        "colab_type": "code",
        "id": "R2FDGuS8maha",
        "colab": {}
      },
      "source": [
        "# for layer in base_model.layers[:135]:\n",
        "#         layer.trainable = False\n",
        "# for layer in base_model.layers[135:]:\n",
        "#     layer.trainable = True\n",
        "# for layer in base_model1.layers[:135]:\n",
        "#         layer.trainable = False\n",
        "# for layer in base_model1.layers[135:]:\n",
        "#     layer.trainable = True\n",
        "for layer in base_model.layers:\n",
        "        layer.trainable = False\n",
        "\n",
        "model.compile(optimizer=Adam(0.001),\n",
        "              loss='categorical_crossentropy',\n",
        "              metrics=['accuracy'])\n",
        "\n",
        "#model.summary()"
      ],
      "execution_count": 0,
      "outputs": []
    },
    {
      "cell_type": "code",
      "metadata": {
        "colab_type": "code",
        "id": "9QPSOfMBmahq",
        "colab": {}
      },
      "source": [
        "top_weights_path = path_to_save_model+'/only_classifier-{epoch:02d}-{val_accuracy:.2f}.h5'\n",
        "callbacks_list = [\n",
        "    ModelCheckpoint(top_weights_path, monitor='val_accuracy', verbose=1, save_best_only=True),\n",
        "    EarlyStopping(monitor='val_accuracy', patience=10, verbose=0)\n",
        "]"
      ],
      "execution_count": 0,
      "outputs": []
    },
    {
      "cell_type": "code",
      "metadata": {
        "colab_type": "code",
        "id": "3PSBI8zNmah0",
        "colab": {}
      },
      "source": [
        "# Train model on dataset\n",
        "w = class_weight.compute_class_weight('balanced',  np.unique(train_df.label.values),train_df.label.values)\n",
        "\n",
        "history = model.fit_generator(generator=training_generator,\n",
        "                              validation_data=validation_generator,\n",
        "                              epochs=30,\n",
        "                              callbacks=callbacks_list,\n",
        "                              class_weight=w)"
      ],
      "execution_count": 0,
      "outputs": []
    },
    {
      "cell_type": "code",
      "metadata": {
        "id": "KMV4WNp59yAp",
        "colab_type": "code",
        "colab": {}
      },
      "source": [
        ""
      ],
      "execution_count": 0,
      "outputs": []
    },
    {
      "cell_type": "code",
      "metadata": {
        "id": "Dy2Se2cS-EOe",
        "colab_type": "code",
        "colab": {}
      },
      "source": [
        "model.load_weights('/content/drive/My Drive/roonyx_models/mobnet_2xlstm_flow/Mobilenet_2lst128-12-0.51.h5')"
      ],
      "execution_count": 0,
      "outputs": []
    },
    {
      "cell_type": "code",
      "metadata": {
        "colab_type": "code",
        "id": "kleihoeG9ybh",
        "colab": {}
      },
      "source": [
        "for layer in base_model.layers:\n",
        "        layer.trainable = True\n",
        "for layer in base_model1.layers:\n",
        "        layer.trainable = False\n",
        "\n",
        "model.compile(optimizer=Adam(0.001),\n",
        "              loss='categorical_crossentropy',\n",
        "              metrics=['accuracy'])\n",
        "\n",
        "#model.summary()"
      ],
      "execution_count": 0,
      "outputs": []
    },
    {
      "cell_type": "code",
      "metadata": {
        "colab_type": "code",
        "id": "O0PZlrCQ9ybt",
        "colab": {}
      },
      "source": [
        "top_weights_path = path_to_save_model+'/Mobilenet_2lst128-final-{epoch:02d}-{val_accuracy:.2f}.h5'\n",
        "callbacks_list = [\n",
        "    ModelCheckpoint(top_weights_path, monitor='val_accuracy', verbose=1, save_best_only=True),\n",
        "    EarlyStopping(monitor='val_accuracy', patience=10, verbose=0)\n",
        "]"
      ],
      "execution_count": 0,
      "outputs": []
    },
    {
      "cell_type": "code",
      "metadata": {
        "colab_type": "code",
        "id": "oJq8TtY79ybx",
        "colab": {}
      },
      "source": [
        "history = model.fit_generator(generator=training_generator,\n",
        "                              validation_data=validation_generator,\n",
        "                              epochs=30,\n",
        "                              callbacks=callbacks_list)"
      ],
      "execution_count": 0,
      "outputs": []
    },
    {
      "cell_type": "markdown",
      "metadata": {
        "id": "btDd95k_TG5Y",
        "colab_type": "text"
      },
      "source": [
        "# YOWO"
      ]
    },
    {
      "cell_type": "markdown",
      "metadata": {
        "id": "qNqmdSgW2bBT",
        "colab_type": "text"
      },
      "source": [
        "## Data generator"
      ]
    },
    {
      "cell_type": "code",
      "metadata": {
        "id": "OKUgI3UZaB-4",
        "colab_type": "code",
        "colab": {}
      },
      "source": [
        "class DataGeneratorTwoStream(Sequence):\n",
        "    'Generates data for Keras'\n",
        "    def __init__(self, list_IDs, labels, \n",
        "                 batch_size=32, image_shape=(299,299), n_channels=3, len_seq = 30,\n",
        "                 frame_step=1,\n",
        "                 n_classes=10, shuffle=True, resizing=False, interpolation=cv2.INTER_AREA):\n",
        "        'Initialization'\n",
        "        self.image_shape = image_shape\n",
        "        self.batch_size = batch_size\n",
        "        self.labels = labels\n",
        "        self.list_IDs = list_IDs\n",
        "        self.n_channels = n_channels\n",
        "        self.n_classes = n_classes\n",
        "        self.shuffle = shuffle\n",
        "        self.resizing = resizing\n",
        "        self.len_seq = len_seq\n",
        "        self.frame_step = frame_step\n",
        "        self.interpolation = interpolation\n",
        "        self.on_epoch_end()\n",
        "        print('Size of generator:', len(self.list_IDs))\n",
        "\n",
        "    def __len__(self):\n",
        "        'Denotes the number of batches per epoch'\n",
        "        return int(np.floor(len(self.list_IDs) / self.batch_size))\n",
        "\n",
        "    def __getitem__(self, index):\n",
        "        'Generate one batch of data'\n",
        "        # Generate indexes of the batch\n",
        "        indexes = self.indexes[index*self.batch_size:(index+1)*self.batch_size]\n",
        "\n",
        "        # Find list of IDs\n",
        "        list_IDs_temp = [self.list_IDs[k] for k in indexes]\n",
        "\n",
        "        # Generate data\n",
        "        X, y = self.__data_generation(list_IDs_temp)\n",
        "\n",
        "        return X, y\n",
        "\n",
        "    def on_epoch_end(self):\n",
        "        'Updates indexes after each epoch'\n",
        "        self.indexes = np.arange(len(self.list_IDs))\n",
        "        if self.shuffle == True:\n",
        "            np.random.shuffle(self.indexes)\n",
        "\n",
        "    def __data_generation(self, list_IDs_temp):\n",
        "        'Generates data containing batch_size samples' # X : (n_samples, *dim, n_channels)\n",
        "        # Initialization\n",
        "\n",
        "        X = np.empty((self.batch_size, self.len_seq, *self.image_shape, self.n_channels))\n",
        "        X_flow = np.empty((self.batch_size, self.len_seq, *self.image_shape, self.n_channels))\n",
        "        y = np.empty((self.batch_size), dtype=int)\n",
        "\n",
        "        # Generate data\n",
        "        for i, ID in enumerate(list_IDs_temp):\n",
        "            # Store sample\n",
        "            path_to_video = ID.replace('?s=', '_s=')\n",
        "            path_to_image = path_to_video.rsplit('.', 1)[0] +'_%s.png'\n",
        "\n",
        "            x_indent = np.random.randint(0, 256-self.image_shape[1])\n",
        "            y_indent = np.random.randint(0, 256-self.image_shape[0])\n",
        "            \n",
        "            flip_flag = np.random.choice(['no_flip', 'horiz_flip'], 1)[0]\n",
        "\n",
        "            for j in range(self.len_seq):\n",
        "                # frame = cv2.imread(path_to_image % (j))\n",
        "                # X[i, j,] = cv2.cvtColor(frame, cv2.COLOR_BGR2RGB)\n",
        "                img = image.load_img(path_to_image % (j))\n",
        "                x = image.img_to_array(img)[y_indent:self.image_shape[0]+y_indent,\n",
        "                                            x_indent:self.image_shape[1]+x_indent]\n",
        "                \n",
        "                if flip_flag == 'horiz_flip':\n",
        "                    x = np.fliplr(x)\n",
        "\n",
        "                X[i, j,] = x\n",
        "            X[i] = preprocess_input(X[i])\n",
        "            y[i] = self.labels[ID]\n",
        "        #X = np.transpose(X, (0,2,3,1,4))\n",
        "        #return X, to_categorical(y, num_classes=self.n_classes)\n",
        "        return [X, X[:,-1]], to_categorical(y, num_classes=self.n_classes)\n"
      ],
      "execution_count": 0,
      "outputs": []
    },
    {
      "cell_type": "markdown",
      "metadata": {
        "id": "zKXji6-I2e2n",
        "colab_type": "text"
      },
      "source": [
        "## Model"
      ]
    },
    {
      "cell_type": "code",
      "metadata": {
        "id": "wd7mIYm8yxsG",
        "colab_type": "code",
        "outputId": "fb8314f0-f26f-42fa-c10f-653603a69a77",
        "colab": {
          "base_uri": "https://localhost:8080/",
          "height": 51
        }
      },
      "source": [
        "image_shape = (224,224)\n",
        "len_seq = 10\n",
        "frame_step = 5\n",
        "n_channels = 3\n",
        "params = {'image_shape': image_shape,\n",
        "          'batch_size': 4,\n",
        "          'n_classes': len(target_classes),\n",
        "          'len_seq': len_seq,\n",
        "          'frame_step': frame_step,\n",
        "          'n_channels': n_channels,\n",
        "          'shuffle': True}\n",
        "\n",
        "# Generators\n",
        "training_generator = DataGeneratorTwoStream(dataset_IDs['train'], labels, **params)\n",
        "validation_generator = DataGeneratorTwoStream(dataset_IDs['test'], labels, **params)"
      ],
      "execution_count": 0,
      "outputs": [
        {
          "output_type": "stream",
          "text": [
            "Size of generator: 32663\n",
            "Size of generator: 1000\n"
          ],
          "name": "stdout"
        }
      ]
    },
    {
      "cell_type": "code",
      "metadata": {
        "id": "Nmihz7gS7hxP",
        "colab_type": "code",
        "colab": {}
      },
      "source": [
        "path_to_save_model = os.path.join(root_path_models, 'mobnet_yowo_mit_mini')\n",
        "if not os.path.exists(path_to_save_model):\n",
        "    os.mkdir(path_to_save_model)"
      ],
      "execution_count": 0,
      "outputs": []
    },
    {
      "cell_type": "code",
      "metadata": {
        "id": "XNhTaQsi4niH",
        "colab_type": "code",
        "outputId": "71d35876-91d4-4f70-a928-d0159a8ce36d",
        "colab": {
          "base_uri": "https://localhost:8080/",
          "height": 952
        }
      },
      "source": [
        "seqShape = (len_seq, *image_shape,n_channels)\n",
        "inputs = Input(seqShape)\n",
        "base_model = MobileNetV2(weights='imagenet',include_top=False, input_shape=(*image_shape,n_channels))\n",
        "outputs = TimeDistributed(base_model)(inputs)\n",
        "x = Permute((2, 3, 4, 1))(outputs)\n",
        "x = Reshape((7,7,1280*len_seq))(x)\n",
        "x = Conv2D(1280, (1,1), padding='same', activation='relu')(x)\n",
        "\n",
        "inputs_1 = Input((*image_shape,n_channels))\n",
        "base_model_1 = MobileNetV2(weights='imagenet',include_top=False, input_shape=(*image_shape,n_channels))\n",
        "outputs_1 = base_model_1(inputs_1)\n",
        "\n",
        "x = Concatenate(axis=3)([x, outputs_1])\n",
        "x = Conv2D(1024, (1,1), padding='same', activation='relu')(x)\n",
        "x = BatchNormalization()(x)\n",
        "x = Conv2D(1024, (3,3), padding='same', activation='relu')(x)\n",
        "x = BatchNormalization()(x)\n",
        "\n",
        "def f(x):\n",
        "    F_T = Reshape((49, 1024))(x)\n",
        "    F = tf.transpose(F_T, perm=(0,2,1))\n",
        "    F_T = tf.linalg.matmul(F, F_T)\n",
        "    M = tf.nn.softmax(F_T)\n",
        "    F_ = tf.linalg.matmul(M, F)\n",
        "    F_ = tf.transpose(F_, perm=(0,2,1))\n",
        "    F__ = Reshape((7,7,1024))(F_)\n",
        "    return x + 0.5*F__\n",
        "\n",
        "x = Lambda(f)(x)\n",
        "x = Conv2D(1024, (3,3), padding='same', activation='relu')(x)\n",
        "x = BatchNormalization()(x)\n",
        "x = Conv2D(1024, (1,1), padding='same')(x)\n",
        "\n",
        "#x = GlobalAveragePooling2D()(x)\n",
        "x = Flatten()(x)\n",
        "x = Dropout(0.3)(x)\n",
        "x = Dense(1024, activation='sigmoid')(x)\n",
        "x = Dropout(0.3)(x)\n",
        "x = Dense(1024, activation='sigmoid')(x)\n",
        "x = Dropout(0.3)(x)\n",
        "preds = Dense(training_generator.n_classes, activation='softmax')(x)\n",
        "\n",
        "model = Model([inputs, inputs_1], preds)\n",
        "model.summary()"
      ],
      "execution_count": 0,
      "outputs": [
        {
          "output_type": "stream",
          "text": [
            "Model: \"model_8\"\n",
            "__________________________________________________________________________________________________\n",
            "Layer (type)                    Output Shape         Param #     Connected to                     \n",
            "==================================================================================================\n",
            "input_27 (InputLayer)           (None, 10, 224, 224, 0                                            \n",
            "__________________________________________________________________________________________________\n",
            "time_distributed_9 (TimeDistrib (None, 10, 7, 7, 128 2257984     input_27[0][0]                   \n",
            "__________________________________________________________________________________________________\n",
            "permute_7 (Permute)             (None, 7, 7, 1280, 1 0           time_distributed_9[0][0]         \n",
            "__________________________________________________________________________________________________\n",
            "reshape_31 (Reshape)            (None, 7, 7, 12800)  0           permute_7[0][0]                  \n",
            "__________________________________________________________________________________________________\n",
            "input_29 (InputLayer)           (None, 224, 224, 3)  0                                            \n",
            "__________________________________________________________________________________________________\n",
            "conv2d_31 (Conv2D)              (None, 7, 7, 1280)   16385280    reshape_31[0][0]                 \n",
            "__________________________________________________________________________________________________\n",
            "mobilenetv2_1.00_224 (Model)    (None, 7, 7, 1280)   2257984     input_29[0][0]                   \n",
            "__________________________________________________________________________________________________\n",
            "concatenate_7 (Concatenate)     (None, 7, 7, 2560)   0           conv2d_31[0][0]                  \n",
            "                                                                 mobilenetv2_1.00_224[1][0]       \n",
            "__________________________________________________________________________________________________\n",
            "conv2d_32 (Conv2D)              (None, 7, 7, 1024)   2622464     concatenate_7[0][0]              \n",
            "__________________________________________________________________________________________________\n",
            "batch_normalization_19 (BatchNo (None, 7, 7, 1024)   4096        conv2d_32[0][0]                  \n",
            "__________________________________________________________________________________________________\n",
            "conv2d_33 (Conv2D)              (None, 7, 7, 1024)   9438208     batch_normalization_19[0][0]     \n",
            "__________________________________________________________________________________________________\n",
            "batch_normalization_20 (BatchNo (None, 7, 7, 1024)   4096        conv2d_33[0][0]                  \n",
            "__________________________________________________________________________________________________\n",
            "lambda_7 (Lambda)               (None, 7, 7, 1024)   0           batch_normalization_20[0][0]     \n",
            "__________________________________________________________________________________________________\n",
            "conv2d_34 (Conv2D)              (None, 7, 7, 1024)   9438208     lambda_7[0][0]                   \n",
            "__________________________________________________________________________________________________\n",
            "batch_normalization_21 (BatchNo (None, 7, 7, 1024)   4096        conv2d_34[0][0]                  \n",
            "__________________________________________________________________________________________________\n",
            "conv2d_35 (Conv2D)              (None, 7, 7, 1024)   1049600     batch_normalization_21[0][0]     \n",
            "__________________________________________________________________________________________________\n",
            "flatten_4 (Flatten)             (None, 50176)        0           conv2d_35[0][0]                  \n",
            "__________________________________________________________________________________________________\n",
            "dropout_16 (Dropout)            (None, 50176)        0           flatten_4[0][0]                  \n",
            "__________________________________________________________________________________________________\n",
            "dense_17 (Dense)                (None, 1024)         51381248    dropout_16[0][0]                 \n",
            "__________________________________________________________________________________________________\n",
            "dropout_17 (Dropout)            (None, 1024)         0           dense_17[0][0]                   \n",
            "__________________________________________________________________________________________________\n",
            "dense_18 (Dense)                (None, 1024)         1049600     dropout_17[0][0]                 \n",
            "__________________________________________________________________________________________________\n",
            "dropout_18 (Dropout)            (None, 1024)         0           dense_18[0][0]                   \n",
            "__________________________________________________________________________________________________\n",
            "dense_19 (Dense)                (None, 10)           10250       dropout_18[0][0]                 \n",
            "==================================================================================================\n",
            "Total params: 95,903,114\n",
            "Trainable params: 95,828,746\n",
            "Non-trainable params: 74,368\n",
            "__________________________________________________________________________________________________\n"
          ],
          "name": "stdout"
        }
      ]
    },
    {
      "cell_type": "code",
      "metadata": {
        "id": "C9aQ3xBnOVS2",
        "colab_type": "code",
        "colab": {}
      },
      "source": [
        "# for layer in base_model.layers[:135]:\n",
        "#     layer.trainable = False\n",
        "# for layer in base_model.layers[135:]:\n",
        "#     layer.trainable = True\n",
        "# for layer in model.layers[:135]:\n",
        "#     layer.trainable = False\n",
        "# for layer in model.layers[135:]:\n",
        "    # layer.trainable = True\n",
        "for layer in base_model.layers:\n",
        "    layer.trainable = False\n",
        "for layer in base_model_1.layers:\n",
        "    layer.trainable = False\n",
        "\n",
        "model.compile(optimizer=Adam(),\n",
        "            loss='categorical_crossentropy',\n",
        "            metrics=['accuracy'])"
      ],
      "execution_count": 0,
      "outputs": []
    },
    {
      "cell_type": "code",
      "metadata": {
        "id": "o0aSLdFW7mXZ",
        "colab_type": "code",
        "colab": {}
      },
      "source": [
        "top_weights_path = path_to_save_model+'/only_classifier-{epoch:02d}-{val_accuracy:.2f}.h5'\n",
        "callbacks_list = [\n",
        "    ModelCheckpoint(top_weights_path, monitor='val_accuracy', verbose=1, save_best_only=True),\n",
        "    EarlyStopping(monitor='val_accuracy', patience=10, verbose=0)\n",
        "]"
      ],
      "execution_count": 0,
      "outputs": []
    },
    {
      "cell_type": "code",
      "metadata": {
        "colab_type": "code",
        "id": "8-_z4fCczFDY",
        "outputId": "cb15f90f-7985-442b-b1f5-5d76c6d4da30",
        "colab": {
          "base_uri": "https://localhost:8080/",
          "height": 646
        }
      },
      "source": [
        "history = model.fit_generator(generator=training_generator,\n",
        "                              validation_data=validation_generator,\n",
        "                              epochs=50,\n",
        "                              callbacks=callbacks_list)"
      ],
      "execution_count": 0,
      "outputs": [
        {
          "output_type": "stream",
          "text": [
            "Epoch 1/50\n",
            "8165/8165 [==============================] - 1713s 210ms/step - loss: 2.1648 - accuracy: 0.2261 - val_loss: 2.3439 - val_accuracy: 0.2030\n",
            "\n",
            "Epoch 00001: val_accuracy improved from -inf to 0.20300, saving model to /content/drive/My Drive/roonyx_models/mobnet_yowo_mit_mini/only_classifier-01-0.20.h5\n",
            "Epoch 2/50\n",
            "8165/8165 [==============================] - 1688s 207ms/step - loss: 2.0760 - accuracy: 0.2641 - val_loss: 1.8729 - val_accuracy: 0.1890\n",
            "\n",
            "Epoch 00002: val_accuracy did not improve from 0.20300\n",
            "Epoch 3/50\n",
            "8165/8165 [==============================] - 1698s 208ms/step - loss: 2.0519 - accuracy: 0.2708 - val_loss: 1.9069 - val_accuracy: 0.2030\n",
            "\n",
            "Epoch 00003: val_accuracy did not improve from 0.20300\n",
            "Epoch 4/50\n",
            "8165/8165 [==============================] - 1676s 205ms/step - loss: 2.0398 - accuracy: 0.2800 - val_loss: 2.2354 - val_accuracy: 0.1910\n",
            "\n",
            "Epoch 00004: val_accuracy did not improve from 0.20300\n",
            "Epoch 5/50\n",
            "2124/8165 [======>.......................] - ETA: 19:59 - loss: 2.0374 - accuracy: 0.2823"
          ],
          "name": "stdout"
        },
        {
          "output_type": "error",
          "ename": "KeyboardInterrupt",
          "evalue": "ignored",
          "traceback": [
            "\u001b[0;31m---------------------------------------------------------------------------\u001b[0m",
            "\u001b[0;31mKeyboardInterrupt\u001b[0m                         Traceback (most recent call last)",
            "\u001b[0;32m<ipython-input-97-be080020cf92>\u001b[0m in \u001b[0;36m<module>\u001b[0;34m()\u001b[0m\n\u001b[1;32m      2\u001b[0m                               \u001b[0mvalidation_data\u001b[0m\u001b[0;34m=\u001b[0m\u001b[0mvalidation_generator\u001b[0m\u001b[0;34m,\u001b[0m\u001b[0;34m\u001b[0m\u001b[0;34m\u001b[0m\u001b[0m\n\u001b[1;32m      3\u001b[0m                               \u001b[0mepochs\u001b[0m\u001b[0;34m=\u001b[0m\u001b[0;36m50\u001b[0m\u001b[0;34m,\u001b[0m\u001b[0;34m\u001b[0m\u001b[0;34m\u001b[0m\u001b[0m\n\u001b[0;32m----> 4\u001b[0;31m                               callbacks=callbacks_list)\n\u001b[0m",
            "\u001b[0;32m/usr/local/lib/python3.6/dist-packages/keras/legacy/interfaces.py\u001b[0m in \u001b[0;36mwrapper\u001b[0;34m(*args, **kwargs)\u001b[0m\n\u001b[1;32m     89\u001b[0m                 warnings.warn('Update your `' + object_name + '` call to the ' +\n\u001b[1;32m     90\u001b[0m                               'Keras 2 API: ' + signature, stacklevel=2)\n\u001b[0;32m---> 91\u001b[0;31m             \u001b[0;32mreturn\u001b[0m \u001b[0mfunc\u001b[0m\u001b[0;34m(\u001b[0m\u001b[0;34m*\u001b[0m\u001b[0margs\u001b[0m\u001b[0;34m,\u001b[0m \u001b[0;34m**\u001b[0m\u001b[0mkwargs\u001b[0m\u001b[0;34m)\u001b[0m\u001b[0;34m\u001b[0m\u001b[0;34m\u001b[0m\u001b[0m\n\u001b[0m\u001b[1;32m     92\u001b[0m         \u001b[0mwrapper\u001b[0m\u001b[0;34m.\u001b[0m\u001b[0m_original_function\u001b[0m \u001b[0;34m=\u001b[0m \u001b[0mfunc\u001b[0m\u001b[0;34m\u001b[0m\u001b[0;34m\u001b[0m\u001b[0m\n\u001b[1;32m     93\u001b[0m         \u001b[0;32mreturn\u001b[0m \u001b[0mwrapper\u001b[0m\u001b[0;34m\u001b[0m\u001b[0;34m\u001b[0m\u001b[0m\n",
            "\u001b[0;32m/usr/local/lib/python3.6/dist-packages/keras/engine/training.py\u001b[0m in \u001b[0;36mfit_generator\u001b[0;34m(self, generator, steps_per_epoch, epochs, verbose, callbacks, validation_data, validation_steps, validation_freq, class_weight, max_queue_size, workers, use_multiprocessing, shuffle, initial_epoch)\u001b[0m\n\u001b[1;32m   1730\u001b[0m             \u001b[0muse_multiprocessing\u001b[0m\u001b[0;34m=\u001b[0m\u001b[0muse_multiprocessing\u001b[0m\u001b[0;34m,\u001b[0m\u001b[0;34m\u001b[0m\u001b[0;34m\u001b[0m\u001b[0m\n\u001b[1;32m   1731\u001b[0m             \u001b[0mshuffle\u001b[0m\u001b[0;34m=\u001b[0m\u001b[0mshuffle\u001b[0m\u001b[0;34m,\u001b[0m\u001b[0;34m\u001b[0m\u001b[0;34m\u001b[0m\u001b[0m\n\u001b[0;32m-> 1732\u001b[0;31m             initial_epoch=initial_epoch)\n\u001b[0m\u001b[1;32m   1733\u001b[0m \u001b[0;34m\u001b[0m\u001b[0m\n\u001b[1;32m   1734\u001b[0m     \u001b[0;34m@\u001b[0m\u001b[0minterfaces\u001b[0m\u001b[0;34m.\u001b[0m\u001b[0mlegacy_generator_methods_support\u001b[0m\u001b[0;34m\u001b[0m\u001b[0;34m\u001b[0m\u001b[0m\n",
            "\u001b[0;32m/usr/local/lib/python3.6/dist-packages/keras/engine/training_generator.py\u001b[0m in \u001b[0;36mfit_generator\u001b[0;34m(model, generator, steps_per_epoch, epochs, verbose, callbacks, validation_data, validation_steps, validation_freq, class_weight, max_queue_size, workers, use_multiprocessing, shuffle, initial_epoch)\u001b[0m\n\u001b[1;32m    218\u001b[0m                                             \u001b[0msample_weight\u001b[0m\u001b[0;34m=\u001b[0m\u001b[0msample_weight\u001b[0m\u001b[0;34m,\u001b[0m\u001b[0;34m\u001b[0m\u001b[0;34m\u001b[0m\u001b[0m\n\u001b[1;32m    219\u001b[0m                                             \u001b[0mclass_weight\u001b[0m\u001b[0;34m=\u001b[0m\u001b[0mclass_weight\u001b[0m\u001b[0;34m,\u001b[0m\u001b[0;34m\u001b[0m\u001b[0;34m\u001b[0m\u001b[0m\n\u001b[0;32m--> 220\u001b[0;31m                                             reset_metrics=False)\n\u001b[0m\u001b[1;32m    221\u001b[0m \u001b[0;34m\u001b[0m\u001b[0m\n\u001b[1;32m    222\u001b[0m                 \u001b[0mouts\u001b[0m \u001b[0;34m=\u001b[0m \u001b[0mto_list\u001b[0m\u001b[0;34m(\u001b[0m\u001b[0mouts\u001b[0m\u001b[0;34m)\u001b[0m\u001b[0;34m\u001b[0m\u001b[0;34m\u001b[0m\u001b[0m\n",
            "\u001b[0;32m/usr/local/lib/python3.6/dist-packages/keras/engine/training.py\u001b[0m in \u001b[0;36mtrain_on_batch\u001b[0;34m(self, x, y, sample_weight, class_weight, reset_metrics)\u001b[0m\n\u001b[1;32m   1512\u001b[0m             \u001b[0mins\u001b[0m \u001b[0;34m=\u001b[0m \u001b[0mx\u001b[0m \u001b[0;34m+\u001b[0m \u001b[0my\u001b[0m \u001b[0;34m+\u001b[0m \u001b[0msample_weights\u001b[0m\u001b[0;34m\u001b[0m\u001b[0;34m\u001b[0m\u001b[0m\n\u001b[1;32m   1513\u001b[0m         \u001b[0mself\u001b[0m\u001b[0;34m.\u001b[0m\u001b[0m_make_train_function\u001b[0m\u001b[0;34m(\u001b[0m\u001b[0;34m)\u001b[0m\u001b[0;34m\u001b[0m\u001b[0;34m\u001b[0m\u001b[0m\n\u001b[0;32m-> 1514\u001b[0;31m         \u001b[0moutputs\u001b[0m \u001b[0;34m=\u001b[0m \u001b[0mself\u001b[0m\u001b[0;34m.\u001b[0m\u001b[0mtrain_function\u001b[0m\u001b[0;34m(\u001b[0m\u001b[0mins\u001b[0m\u001b[0;34m)\u001b[0m\u001b[0;34m\u001b[0m\u001b[0;34m\u001b[0m\u001b[0m\n\u001b[0m\u001b[1;32m   1515\u001b[0m \u001b[0;34m\u001b[0m\u001b[0m\n\u001b[1;32m   1516\u001b[0m         \u001b[0;32mif\u001b[0m \u001b[0mreset_metrics\u001b[0m\u001b[0;34m:\u001b[0m\u001b[0;34m\u001b[0m\u001b[0;34m\u001b[0m\u001b[0m\n",
            "\u001b[0;32m/usr/local/lib/python3.6/dist-packages/tensorflow/python/keras/backend.py\u001b[0m in \u001b[0;36m__call__\u001b[0;34m(self, inputs)\u001b[0m\n\u001b[1;32m   3784\u001b[0m               'You must feed a value for placeholder %s' % (tensor,))\n\u001b[1;32m   3785\u001b[0m       \u001b[0;32mif\u001b[0m \u001b[0;32mnot\u001b[0m \u001b[0misinstance\u001b[0m\u001b[0;34m(\u001b[0m\u001b[0mvalue\u001b[0m\u001b[0;34m,\u001b[0m \u001b[0mops\u001b[0m\u001b[0;34m.\u001b[0m\u001b[0mTensor\u001b[0m\u001b[0;34m)\u001b[0m\u001b[0;34m:\u001b[0m\u001b[0;34m\u001b[0m\u001b[0;34m\u001b[0m\u001b[0m\n\u001b[0;32m-> 3786\u001b[0;31m         \u001b[0mvalue\u001b[0m \u001b[0;34m=\u001b[0m \u001b[0mops\u001b[0m\u001b[0;34m.\u001b[0m\u001b[0mconvert_to_tensor_v2\u001b[0m\u001b[0;34m(\u001b[0m\u001b[0mvalue\u001b[0m\u001b[0;34m,\u001b[0m \u001b[0mdtype\u001b[0m\u001b[0;34m=\u001b[0m\u001b[0mtensor\u001b[0m\u001b[0;34m.\u001b[0m\u001b[0mdtype\u001b[0m\u001b[0;34m)\u001b[0m\u001b[0;34m\u001b[0m\u001b[0;34m\u001b[0m\u001b[0m\n\u001b[0m\u001b[1;32m   3787\u001b[0m       \u001b[0;32mif\u001b[0m \u001b[0mvalue\u001b[0m\u001b[0;34m.\u001b[0m\u001b[0mdtype\u001b[0m \u001b[0;34m!=\u001b[0m \u001b[0mtensor\u001b[0m\u001b[0;34m.\u001b[0m\u001b[0mdtype\u001b[0m\u001b[0;34m:\u001b[0m\u001b[0;34m\u001b[0m\u001b[0;34m\u001b[0m\u001b[0m\n\u001b[1;32m   3788\u001b[0m         \u001b[0;31m# Temporary workaround due to `convert_to_tensor` not casting floats.\u001b[0m\u001b[0;34m\u001b[0m\u001b[0;34m\u001b[0m\u001b[0;34m\u001b[0m\u001b[0m\n",
            "\u001b[0;32m/usr/local/lib/python3.6/dist-packages/tensorflow/python/framework/ops.py\u001b[0m in \u001b[0;36mconvert_to_tensor_v2\u001b[0;34m(value, dtype, dtype_hint, name)\u001b[0m\n\u001b[1;32m   1281\u001b[0m       \u001b[0mname\u001b[0m\u001b[0;34m=\u001b[0m\u001b[0mname\u001b[0m\u001b[0;34m,\u001b[0m\u001b[0;34m\u001b[0m\u001b[0;34m\u001b[0m\u001b[0m\n\u001b[1;32m   1282\u001b[0m       \u001b[0mpreferred_dtype\u001b[0m\u001b[0;34m=\u001b[0m\u001b[0mdtype_hint\u001b[0m\u001b[0;34m,\u001b[0m\u001b[0;34m\u001b[0m\u001b[0;34m\u001b[0m\u001b[0m\n\u001b[0;32m-> 1283\u001b[0;31m       as_ref=False)\n\u001b[0m\u001b[1;32m   1284\u001b[0m \u001b[0;34m\u001b[0m\u001b[0m\n\u001b[1;32m   1285\u001b[0m \u001b[0;34m\u001b[0m\u001b[0m\n",
            "\u001b[0;32m/usr/local/lib/python3.6/dist-packages/tensorflow/python/framework/ops.py\u001b[0m in \u001b[0;36mconvert_to_tensor\u001b[0;34m(value, dtype, name, as_ref, preferred_dtype, dtype_hint, ctx, accepted_result_types)\u001b[0m\n\u001b[1;32m   1339\u001b[0m \u001b[0;34m\u001b[0m\u001b[0m\n\u001b[1;32m   1340\u001b[0m     \u001b[0;32mif\u001b[0m \u001b[0mret\u001b[0m \u001b[0;32mis\u001b[0m \u001b[0;32mNone\u001b[0m\u001b[0;34m:\u001b[0m\u001b[0;34m\u001b[0m\u001b[0;34m\u001b[0m\u001b[0m\n\u001b[0;32m-> 1341\u001b[0;31m       \u001b[0mret\u001b[0m \u001b[0;34m=\u001b[0m \u001b[0mconversion_func\u001b[0m\u001b[0;34m(\u001b[0m\u001b[0mvalue\u001b[0m\u001b[0;34m,\u001b[0m \u001b[0mdtype\u001b[0m\u001b[0;34m=\u001b[0m\u001b[0mdtype\u001b[0m\u001b[0;34m,\u001b[0m \u001b[0mname\u001b[0m\u001b[0;34m=\u001b[0m\u001b[0mname\u001b[0m\u001b[0;34m,\u001b[0m \u001b[0mas_ref\u001b[0m\u001b[0;34m=\u001b[0m\u001b[0mas_ref\u001b[0m\u001b[0;34m)\u001b[0m\u001b[0;34m\u001b[0m\u001b[0;34m\u001b[0m\u001b[0m\n\u001b[0m\u001b[1;32m   1342\u001b[0m \u001b[0;34m\u001b[0m\u001b[0m\n\u001b[1;32m   1343\u001b[0m     \u001b[0;32mif\u001b[0m \u001b[0mret\u001b[0m \u001b[0;32mis\u001b[0m \u001b[0mNotImplemented\u001b[0m\u001b[0;34m:\u001b[0m\u001b[0;34m\u001b[0m\u001b[0;34m\u001b[0m\u001b[0m\n",
            "\u001b[0;32m/usr/local/lib/python3.6/dist-packages/tensorflow/python/framework/tensor_conversion_registry.py\u001b[0m in \u001b[0;36m_default_conversion_function\u001b[0;34m(***failed resolving arguments***)\u001b[0m\n\u001b[1;32m     50\u001b[0m \u001b[0;32mdef\u001b[0m \u001b[0m_default_conversion_function\u001b[0m\u001b[0;34m(\u001b[0m\u001b[0mvalue\u001b[0m\u001b[0;34m,\u001b[0m \u001b[0mdtype\u001b[0m\u001b[0;34m,\u001b[0m \u001b[0mname\u001b[0m\u001b[0;34m,\u001b[0m \u001b[0mas_ref\u001b[0m\u001b[0;34m)\u001b[0m\u001b[0;34m:\u001b[0m\u001b[0;34m\u001b[0m\u001b[0;34m\u001b[0m\u001b[0m\n\u001b[1;32m     51\u001b[0m   \u001b[0;32mdel\u001b[0m \u001b[0mas_ref\u001b[0m  \u001b[0;31m# Unused.\u001b[0m\u001b[0;34m\u001b[0m\u001b[0;34m\u001b[0m\u001b[0m\n\u001b[0;32m---> 52\u001b[0;31m   \u001b[0;32mreturn\u001b[0m \u001b[0mconstant_op\u001b[0m\u001b[0;34m.\u001b[0m\u001b[0mconstant\u001b[0m\u001b[0;34m(\u001b[0m\u001b[0mvalue\u001b[0m\u001b[0;34m,\u001b[0m \u001b[0mdtype\u001b[0m\u001b[0;34m,\u001b[0m \u001b[0mname\u001b[0m\u001b[0;34m=\u001b[0m\u001b[0mname\u001b[0m\u001b[0;34m)\u001b[0m\u001b[0;34m\u001b[0m\u001b[0;34m\u001b[0m\u001b[0m\n\u001b[0m\u001b[1;32m     53\u001b[0m \u001b[0;34m\u001b[0m\u001b[0m\n\u001b[1;32m     54\u001b[0m \u001b[0;34m\u001b[0m\u001b[0m\n",
            "\u001b[0;32m/usr/local/lib/python3.6/dist-packages/tensorflow/python/framework/constant_op.py\u001b[0m in \u001b[0;36mconstant\u001b[0;34m(value, dtype, shape, name)\u001b[0m\n\u001b[1;32m    260\u001b[0m   \"\"\"\n\u001b[1;32m    261\u001b[0m   return _constant_impl(value, dtype, shape, name, verify_shape=False,\n\u001b[0;32m--> 262\u001b[0;31m                         allow_broadcast=True)\n\u001b[0m\u001b[1;32m    263\u001b[0m \u001b[0;34m\u001b[0m\u001b[0m\n\u001b[1;32m    264\u001b[0m \u001b[0;34m\u001b[0m\u001b[0m\n",
            "\u001b[0;32m/usr/local/lib/python3.6/dist-packages/tensorflow/python/framework/constant_op.py\u001b[0m in \u001b[0;36m_constant_impl\u001b[0;34m(value, dtype, shape, name, verify_shape, allow_broadcast)\u001b[0m\n\u001b[1;32m    268\u001b[0m   \u001b[0mctx\u001b[0m \u001b[0;34m=\u001b[0m \u001b[0mcontext\u001b[0m\u001b[0;34m.\u001b[0m\u001b[0mcontext\u001b[0m\u001b[0;34m(\u001b[0m\u001b[0;34m)\u001b[0m\u001b[0;34m\u001b[0m\u001b[0;34m\u001b[0m\u001b[0m\n\u001b[1;32m    269\u001b[0m   \u001b[0;32mif\u001b[0m \u001b[0mctx\u001b[0m\u001b[0;34m.\u001b[0m\u001b[0mexecuting_eagerly\u001b[0m\u001b[0;34m(\u001b[0m\u001b[0;34m)\u001b[0m\u001b[0;34m:\u001b[0m\u001b[0;34m\u001b[0m\u001b[0;34m\u001b[0m\u001b[0m\n\u001b[0;32m--> 270\u001b[0;31m     \u001b[0mt\u001b[0m \u001b[0;34m=\u001b[0m \u001b[0mconvert_to_eager_tensor\u001b[0m\u001b[0;34m(\u001b[0m\u001b[0mvalue\u001b[0m\u001b[0;34m,\u001b[0m \u001b[0mctx\u001b[0m\u001b[0;34m,\u001b[0m \u001b[0mdtype\u001b[0m\u001b[0;34m)\u001b[0m\u001b[0;34m\u001b[0m\u001b[0;34m\u001b[0m\u001b[0m\n\u001b[0m\u001b[1;32m    271\u001b[0m     \u001b[0;32mif\u001b[0m \u001b[0mshape\u001b[0m \u001b[0;32mis\u001b[0m \u001b[0;32mNone\u001b[0m\u001b[0;34m:\u001b[0m\u001b[0;34m\u001b[0m\u001b[0;34m\u001b[0m\u001b[0m\n\u001b[1;32m    272\u001b[0m       \u001b[0;32mreturn\u001b[0m \u001b[0mt\u001b[0m\u001b[0;34m\u001b[0m\u001b[0;34m\u001b[0m\u001b[0m\n",
            "\u001b[0;32m/usr/local/lib/python3.6/dist-packages/tensorflow/python/framework/constant_op.py\u001b[0m in \u001b[0;36mconvert_to_eager_tensor\u001b[0;34m(value, ctx, dtype)\u001b[0m\n\u001b[1;32m     94\u001b[0m       \u001b[0mdtype\u001b[0m \u001b[0;34m=\u001b[0m \u001b[0mdtypes\u001b[0m\u001b[0;34m.\u001b[0m\u001b[0mas_dtype\u001b[0m\u001b[0;34m(\u001b[0m\u001b[0mdtype\u001b[0m\u001b[0;34m)\u001b[0m\u001b[0;34m.\u001b[0m\u001b[0mas_datatype_enum\u001b[0m\u001b[0;34m\u001b[0m\u001b[0;34m\u001b[0m\u001b[0m\n\u001b[1;32m     95\u001b[0m   \u001b[0mctx\u001b[0m\u001b[0;34m.\u001b[0m\u001b[0mensure_initialized\u001b[0m\u001b[0;34m(\u001b[0m\u001b[0;34m)\u001b[0m\u001b[0;34m\u001b[0m\u001b[0;34m\u001b[0m\u001b[0m\n\u001b[0;32m---> 96\u001b[0;31m   \u001b[0;32mreturn\u001b[0m \u001b[0mops\u001b[0m\u001b[0;34m.\u001b[0m\u001b[0mEagerTensor\u001b[0m\u001b[0;34m(\u001b[0m\u001b[0mvalue\u001b[0m\u001b[0;34m,\u001b[0m \u001b[0mctx\u001b[0m\u001b[0;34m.\u001b[0m\u001b[0mdevice_name\u001b[0m\u001b[0;34m,\u001b[0m \u001b[0mdtype\u001b[0m\u001b[0;34m)\u001b[0m\u001b[0;34m\u001b[0m\u001b[0;34m\u001b[0m\u001b[0m\n\u001b[0m\u001b[1;32m     97\u001b[0m \u001b[0;34m\u001b[0m\u001b[0m\n\u001b[1;32m     98\u001b[0m \u001b[0;34m\u001b[0m\u001b[0m\n",
            "\u001b[0;31mKeyboardInterrupt\u001b[0m: "
          ]
        }
      ]
    },
    {
      "cell_type": "markdown",
      "metadata": {
        "id": "tMwBiJiNE3YX",
        "colab_type": "text"
      },
      "source": [
        "# 3D"
      ]
    },
    {
      "cell_type": "markdown",
      "metadata": {
        "id": "o0n8BMh2GqC_",
        "colab_type": "text"
      },
      "source": [
        "## Data generator"
      ]
    },
    {
      "cell_type": "code",
      "metadata": {
        "id": "66mTSN06GdgQ",
        "colab_type": "code",
        "colab": {}
      },
      "source": [
        "class DataGenerator(tf.keras.utils.Sequence):\n",
        "    'Generates data for Keras'\n",
        "    def __init__(self, list_IDs, labels, \n",
        "                 batch_size=32, image_shape=(299,299), n_channels=3, len_seq = 30,\n",
        "                 frame_step=1,\n",
        "                 n_classes=10, shuffle=True, resizing=False, interpolation=cv2.INTER_AREA):\n",
        "        'Initialization'\n",
        "        self.image_shape = image_shape\n",
        "        self.batch_size = batch_size\n",
        "        self.labels = labels\n",
        "        self.list_IDs = list_IDs\n",
        "        self.n_channels = n_channels\n",
        "        self.n_classes = n_classes\n",
        "        self.shuffle = shuffle\n",
        "        self.resizing = resizing\n",
        "        self.len_seq = len_seq\n",
        "        self.frame_step = frame_step\n",
        "        self.interpolation = interpolation\n",
        "        self.on_epoch_end()\n",
        "        print('Size of generator:', len(self.list_IDs))\n",
        "\n",
        "    def __len__(self):\n",
        "        'Denotes the number of batches per epoch'\n",
        "        return int(np.floor(len(self.list_IDs) / self.batch_size))\n",
        "\n",
        "    def __getitem__(self, index):\n",
        "        'Generate one batch of data'\n",
        "        # Generate indexes of the batch\n",
        "        indexes = self.indexes[index*self.batch_size:(index+1)*self.batch_size]\n",
        "\n",
        "        # Find list of IDs\n",
        "        list_IDs_temp = [self.list_IDs[k] for k in indexes]\n",
        "\n",
        "        # Generate data\n",
        "        X, y = self.__data_generation(list_IDs_temp)\n",
        "\n",
        "        return X, y\n",
        "\n",
        "    def on_epoch_end(self):\n",
        "        'Updates indexes after each epoch'\n",
        "        self.indexes = np.arange(len(self.list_IDs))\n",
        "        if self.shuffle == True:\n",
        "            np.random.shuffle(self.indexes)\n",
        "\n",
        "    def __data_generation(self, list_IDs_temp):\n",
        "        'Generates data containing batch_size samples' # X : (n_samples, *dim, n_channels)\n",
        "        # Initialization\n",
        "        X = np.empty((self.batch_size, self.len_seq, *self.image_shape, self.n_channels))\n",
        "        y = np.empty((self.batch_size), dtype=int)\n",
        "\n",
        "        # # Generate data\n",
        "        # for i, ID in enumerate(list_IDs_temp):\n",
        "        #     # Store sample\n",
        "            \n",
        "        #     cap = cv2.VideoCapture(ID.replace('?s=', '_s='))\n",
        "            \n",
        "        #     frame_num = cap.get(cv2.CAP_PROP_FRAME_COUNT)\n",
        "        #     frame_no = (np.random.randint(0, np.min([15, (frame_num - self.len_seq*(self.frame_step+1))])))\n",
        "        #     cap.set(cv2.CAP_PROP_POS_FRAMES, frame_no)\n",
        "        #     for j in range(self.len_seq):\n",
        "                \n",
        "        #         ret, frame = cap.read()\n",
        "        #         if ret:\n",
        "        #             X[i, j,] = cv2.resize(cv2.cvtColor(frame, cv2.COLOR_BGR2RGB), \n",
        "        #                                      self.image_shape, \n",
        "        #                                      interpolation=self.interpolation)\n",
        "        #             # if self.n_channels > 1:\n",
        "        #             #     X[i, j,] = cv2.resize(cv2.cvtColor(frame, cv2.COLOR_BGR2RGB), \n",
        "        #             #                         self.image_shape, \n",
        "        #             #                         interpolation=self.interpolation)\n",
        "        #             # else:\n",
        "        #             #     X[i, j,] = cv2.resize(cv2.cvtColor(frame, cv2.COLOR_BGR2GRAY), \n",
        "        #             #                         self.image_shape, \n",
        "        #             #                         interpolation=self.interpolation)[:,:, np.newaxis]\n",
        "        #             #print(X[i, j,].max())\n",
        "        #         for _ in range(self.frame_step):\n",
        "        #             _, _ = cap.read()\n",
        "\n",
        "        #     cap.release()\n",
        "        #     # Store class\n",
        "        #     X[i] = preprocess_input(X[i])\n",
        "        #     y[i] = self.labels[ID]\n",
        "        # #X = np.transpose(X, (0,2,3,1,4))\n",
        "        # #return X, to_categorical(y, num_classes=self.n_classes)\n",
        "        # return X, to_categorical(y, num_classes=self.n_classes)\n",
        "\n",
        "    def __data_generation(self, list_IDs_temp):\n",
        "        'Generates data containing batch_size samples' # X : (n_samples, *dim, n_channels)\n",
        "        # Initialization\n",
        "        X = np.empty((self.batch_size, self.len_seq, *self.image_shape, self.n_channels))\n",
        "        y = np.empty((self.batch_size), dtype=int)\n",
        "\n",
        "        # Generate data\n",
        "        for i, ID in enumerate(list_IDs_temp):\n",
        "            # Store sample\n",
        "            path_to_video = ID.replace('?s=', '_s=')\n",
        "            path_to_image = path_to_video.rsplit('.', 1)[0] +'_%s.jpg'\n",
        "            \n",
        "            for j in range(self.len_seq):\n",
        "                # frame = cv2.imread(path_to_image % (j))\n",
        "                # X[i, j,] = cv2.cvtColor(frame, cv2.COLOR_BGR2RGB)\n",
        "                img = image.load_img(path_to_image % (j), target_size=(224,224))\n",
        "                x = image.img_to_array(img)\n",
        "                \n",
        "                X[i, j,] = x\n",
        "            X[i] = preprocess_input(X[i])\n",
        "            y[i] = self.labels[ID]\n",
        "        #X = np.transpose(X, (0,2,3,1,4))\n",
        "        #return X, to_categorical(y, num_classes=self.n_classes)\n",
        "        return X, to_categorical(y, num_classes=self.n_classes)\n",
        "\n",
        "    \n",
        "\n"
      ],
      "execution_count": 0,
      "outputs": []
    },
    {
      "cell_type": "markdown",
      "metadata": {
        "id": "ValSElXOGuEf",
        "colab_type": "text"
      },
      "source": [
        "## Model"
      ]
    },
    {
      "cell_type": "code",
      "metadata": {
        "id": "SHSYKeWtRqVN",
        "colab_type": "code",
        "outputId": "8aee27ce-ed3f-44de-e6f5-ab1e981d29d7",
        "colab": {
          "base_uri": "https://localhost:8080/",
          "height": 51
        }
      },
      "source": [
        "image_shape = (224,224)\n",
        "len_seq = 10\n",
        "frame_step = 5\n",
        "n_channels = 3\n",
        "params = {'image_shape': image_shape,\n",
        "          'batch_size': 32,\n",
        "          'n_classes': len(target_classes),\n",
        "          'len_seq': len_seq,\n",
        "          'frame_step': frame_step,\n",
        "          'n_channels': n_channels,\n",
        "          'shuffle': True}\n",
        "\n",
        "# Generators\n",
        "training_generator = DataGenerator(dataset_IDs['train'], labels, **params)\n",
        "validation_generator = DataGenerator(dataset_IDs['test'], labels, **params)"
      ],
      "execution_count": 0,
      "outputs": [
        {
          "output_type": "stream",
          "text": [
            "Size of generator: 24333\n",
            "Size of generator: 855\n"
          ],
          "name": "stdout"
        }
      ]
    },
    {
      "cell_type": "code",
      "metadata": {
        "id": "aoeU0fhBJB06",
        "colab_type": "code",
        "outputId": "44b10873-843f-4fd7-ddd7-80679b581ede",
        "colab": {
          "base_uri": "https://localhost:8080/",
          "height": 357
        }
      },
      "source": [
        "MODULE_HANDLE = 'https://tfhub.dev/deepmind/mil-nce/i3d/1'\n",
        "inputs = tf.keras.layers.Input((len_seq, *image_shape, 3))\n",
        "x = hub.KerasLayer(MODULE_HANDLE, trainable=False, signature='video', output_key='mixed_5c')(inputs)\n",
        "x = tf.keras.layers.Dropout(0.2)(x)\n",
        "x = tf.keras.layers.Dense(512)(x)\n",
        "x = tf.keras.layers.Dropout(0.3)(x)\n",
        "x = tf.keras.layers.Dense(len(target_classes), 'softmax')(x)\n",
        "model = tf.keras.models.Model(inputs=inputs, outputs=x,)\n",
        "model.summary()"
      ],
      "execution_count": 0,
      "outputs": [
        {
          "output_type": "stream",
          "text": [
            "Model: \"model_1\"\n",
            "_________________________________________________________________\n",
            "Layer (type)                 Output Shape              Param #   \n",
            "=================================================================\n",
            "input_8 (InputLayer)         [(None, 10, 224, 224, 3)] 0         \n",
            "_________________________________________________________________\n",
            "keras_layer_6 (KerasLayer)   (None, 1024)              34128976  \n",
            "_________________________________________________________________\n",
            "dropout_4 (Dropout)          (None, 1024)              0         \n",
            "_________________________________________________________________\n",
            "dense_3 (Dense)              (None, 512)               524800    \n",
            "_________________________________________________________________\n",
            "dropout_5 (Dropout)          (None, 512)               0         \n",
            "_________________________________________________________________\n",
            "dense_4 (Dense)              (None, 10)                5130      \n",
            "=================================================================\n",
            "Total params: 34,658,906\n",
            "Trainable params: 529,930\n",
            "Non-trainable params: 34,128,976\n",
            "_________________________________________________________________\n"
          ],
          "name": "stdout"
        }
      ]
    },
    {
      "cell_type": "code",
      "metadata": {
        "id": "3gtzZx_FFwlc",
        "colab_type": "code",
        "colab": {}
      },
      "source": [
        "model.compile(\n",
        "  optimizer=tf.keras.optimizers.SGD(lr=0.005, momentum=0.9), \n",
        "  loss=tf.keras.losses.CategoricalCrossentropy(from_logits=True, label_smoothing=0.1),\n",
        "  metrics=['accuracy'])"
      ],
      "execution_count": 0,
      "outputs": []
    },
    {
      "cell_type": "code",
      "metadata": {
        "id": "Vp563K7qGdxM",
        "colab_type": "code",
        "colab": {}
      },
      "source": [
        "w = class_weight.compute_class_weight('balanced',  np.unique(train_df.label.values),train_df.label.values)\n",
        "final_weights_path = 'drive/My Drive/roonyx_models/i3d-{epoch:02d}-{val_accuracy:.2f}.h5'\n",
        "callbacks_list = [\n",
        "    tf.keras.callbacks.ModelCheckpoint(final_weights_path, monitor='val_accuracy', verbose=1, save_best_only=True),\n",
        "    #EarlyStopping(monitor='val_loss', patience=4, verbose=0)\n",
        "]"
      ],
      "execution_count": 0,
      "outputs": []
    },
    {
      "cell_type": "code",
      "metadata": {
        "id": "7LTMcs6vFwiR",
        "colab_type": "code",
        "colab": {}
      },
      "source": [
        "history = model.fit(training_generator,\n",
        "                    validation_data=validation_generator,\n",
        "                    epochs=30,\n",
        "                    callbacks=callbacks_list,\n",
        "                    class_weight=None).history"
      ],
      "execution_count": 0,
      "outputs": []
    },
    {
      "cell_type": "code",
      "metadata": {
        "id": "dPSpLeYcUt5x",
        "colab_type": "code",
        "colab": {}
      },
      "source": [
        ""
      ],
      "execution_count": 0,
      "outputs": []
    },
    {
      "cell_type": "markdown",
      "metadata": {
        "id": "ebAv9C_r2IVP",
        "colab_type": "text"
      },
      "source": [
        "# Testing model"
      ]
    },
    {
      "cell_type": "code",
      "metadata": {
        "id": "hXjNJRAYq8nl",
        "colab_type": "code",
        "outputId": "b7743bde-5308-4886-d205-1762b734e183",
        "colab": {
          "base_uri": "https://localhost:8080/",
          "height": 66,
          "referenced_widgets": [
            "c6364c0bc83644ddaecaa13b32605c97",
            "c01cded765d04898a048ef982e7e0879",
            "0eec87d05b124118b315f91df84804e0",
            "ab97fa5d2cd64e62b4e8d3e7fda43ce4",
            "6086c02be4d74e0f9ac2b0f03bb668d1",
            "0ac815e9a99b4d4698bcc8802756ef74",
            "e18ecfa2dec146b798477a89d500c261",
            "0334b905df7141a4a67eafdb02e46fd8"
          ]
        }
      },
      "source": [
        "batch_size=10\n",
        "n_channels = 3\n",
        "X = np.empty((batch_size, len_seq, *image_shape, n_channels))\n",
        "y_pred = np.zeros((len(dataset_IDs['test']), len(target_classes)), dtype=float)\n",
        "y_true = np.zeros((len(dataset_IDs['test'])), dtype=float)\n",
        "# Generate data\n",
        "for i, ID in tqdm(enumerate(dataset_IDs['test'])):\n",
        "    # Store sample\n",
        "    X = np.empty((1, len_seq, *image_shape, n_channels))\n",
        "\n",
        "    cap = cv2.VideoCapture(ID.replace('?s=', '_s='))\n",
        "    frame_num = cap.get(cv2.CAP_PROP_FRAME_COUNT)\n",
        "    #if frame_num>0:\n",
        "    frame_no = (np.random.randint(0, frame_num - len_seq*(frame_step+1)))\n",
        "    cap.set(cv2.CAP_PROP_POS_FRAMES, frame_no)\n",
        "    for j in range(len_seq):\n",
        "        ret, frame = cap.read()\n",
        "        if ret:\n",
        "            X[0, j,] = cv2.resize(cv2.cvtColor(frame, cv2.COLOR_BGR2RGB), \n",
        "                                    image_shape, \n",
        "                                    interpolation=cv2.INTER_AREA)/255.0\n",
        "\n",
        "        for _ in range(frame_step):\n",
        "            _, _ = cap.read()\n",
        "\n",
        "    cap.release()\n",
        "\n",
        "    y_pred[i] = model.predict(X)\n",
        "    y_true[i] = labels[ID]"
      ],
      "execution_count": 37,
      "outputs": [
        {
          "output_type": "display_data",
          "data": {
            "application/vnd.jupyter.widget-view+json": {
              "model_id": "c6364c0bc83644ddaecaa13b32605c97",
              "version_minor": 0,
              "version_major": 2
            },
            "text/plain": [
              "HBox(children=(FloatProgress(value=1.0, bar_style='info', max=1.0), HTML(value='')))"
            ]
          },
          "metadata": {
            "tags": []
          }
        },
        {
          "output_type": "stream",
          "text": [
            "\n"
          ],
          "name": "stdout"
        }
      ]
    },
    {
      "cell_type": "code",
      "metadata": {
        "id": "nA3SYK3orBIg",
        "colab_type": "code",
        "colab": {}
      },
      "source": [
        "from sklearn.metrics import classification_report, confusion_matrix\n",
        "import seaborn as sns"
      ],
      "execution_count": 0,
      "outputs": []
    },
    {
      "cell_type": "code",
      "metadata": {
        "id": "UR1m7Slnyk6K",
        "colab_type": "code",
        "outputId": "f81f8432-7723-4e5e-cb22-48819e892d39",
        "colab": {
          "base_uri": "https://localhost:8080/",
          "height": 306
        }
      },
      "source": [
        "print(classification_report(y_true, np.argmax(y_pred, axis=1), target_names=target_classes))"
      ],
      "execution_count": 39,
      "outputs": [
        {
          "output_type": "stream",
          "text": [
            "              precision    recall  f1-score   support\n",
            "\n",
            "     smoking       0.41      0.50      0.45       100\n",
            "    punching       0.64      0.14      0.23       100\n",
            "   bicycling       0.65      0.68      0.66       100\n",
            "      typing       0.60      0.55      0.57       100\n",
            "  discussing       0.39      0.43      0.41       100\n",
            "     dancing       0.56      0.57      0.57       100\n",
            " telephoning       0.34      0.43      0.38       100\n",
            "    shooting       0.41      0.39      0.40       100\n",
            "  exercising       0.36      0.46      0.40       100\n",
            "     drawing       0.58      0.56      0.57       100\n",
            "\n",
            "    accuracy                           0.47      1000\n",
            "   macro avg       0.49      0.47      0.46      1000\n",
            "weighted avg       0.49      0.47      0.46      1000\n",
            "\n"
          ],
          "name": "stdout"
        }
      ]
    },
    {
      "cell_type": "code",
      "metadata": {
        "id": "gyuTOwvv1o_t",
        "colab_type": "code",
        "colab": {}
      },
      "source": [
        "con_matr = pd.DataFrame(confusion_matrix(y_true, np.argmax(y_pred, axis=1)), index=target_classes, columns=target_classes)"
      ],
      "execution_count": 0,
      "outputs": []
    },
    {
      "cell_type": "code",
      "metadata": {
        "id": "PbkTSxLz0DE-",
        "colab_type": "code",
        "outputId": "b6712a5f-87cd-4bd3-8b98-d94dae62346e",
        "colab": {
          "base_uri": "https://localhost:8080/",
          "height": 492
        }
      },
      "source": [
        "plt.figure(figsize=(8,7))\n",
        "sns.heatmap(con_matr, annot=True, cmap='Blues')\n",
        "plt.xlabel('Pred')\n",
        "plt.ylabel('True');"
      ],
      "execution_count": 41,
      "outputs": [
        {
          "output_type": "display_data",
          "data": {
            "image/png": "[encoded data removed]",
            "text/plain": [
              "<Figure size 576x504 with 2 Axes>"
            ]
          },
          "metadata": {
            "tags": [],
            "needs_background": "light"
          }
        }
      ]
    },
    {
      "cell_type": "code",
      "metadata": {
        "id": "jzl76h9qUFXU",
        "colab_type": "code",
        "colab": {}
      },
      "source": [
        ""
      ],
      "execution_count": 0,
      "outputs": []
    },
    {
      "cell_type": "markdown",
      "metadata": {
        "id": "T9SBCrWP2RHQ",
        "colab_type": "text"
      },
      "source": [
        "# Data exploration\n"
      ]
    },
    {
      "cell_type": "code",
      "metadata": {
        "id": "d8yRb41EUFQ0",
        "colab_type": "code",
        "outputId": "52a25894-ba66-4500-85a8-a167abbf2b44",
        "colab": {
          "base_uri": "https://localhost:8080/",
          "height": 204
        }
      },
      "source": [
        "train_df = pd.read_csv(root_path+\"trainingSet.csv\", header=None, \n",
        "                 names=['filename', 'label', 'good', 'bad'] )\n",
        "train_df.head()"
      ],
      "execution_count": 0,
      "outputs": [
        {
          "output_type": "execute_result",
          "data": {
            "text/html": [
              "<div>\n",
              "<style scoped>\n",
              "    .dataframe tbody tr th:only-of-type {\n",
              "        vertical-align: middle;\n",
              "    }\n",
              "\n",
              "    .dataframe tbody tr th {\n",
              "        vertical-align: top;\n",
              "    }\n",
              "\n",
              "    .dataframe thead th {\n",
              "        text-align: right;\n",
              "    }\n",
              "</style>\n",
              "<table border=\"1\" class=\"dataframe\">\n",
              "  <thead>\n",
              "    <tr style=\"text-align: right;\">\n",
              "      <th></th>\n",
              "      <th>filename</th>\n",
              "      <th>label</th>\n",
              "      <th>good</th>\n",
              "      <th>bad</th>\n",
              "    </tr>\n",
              "  </thead>\n",
              "  <tbody>\n",
              "    <tr>\n",
              "      <th>0</th>\n",
              "      <td>blocking/getty-karate-video-id635808620_4.mp4</td>\n",
              "      <td>blocking</td>\n",
              "      <td>3</td>\n",
              "      <td>0</td>\n",
              "    </tr>\n",
              "    <tr>\n",
              "      <th>1</th>\n",
              "      <td>piloting/yt-SWQpGv37JOI_107.mp4</td>\n",
              "      <td>piloting</td>\n",
              "      <td>3</td>\n",
              "      <td>1</td>\n",
              "    </tr>\n",
              "    <tr>\n",
              "      <th>2</th>\n",
              "      <td>dining/getty-accross-the-table-video-id5333709...</td>\n",
              "      <td>dining</td>\n",
              "      <td>3</td>\n",
              "      <td>1</td>\n",
              "    </tr>\n",
              "    <tr>\n",
              "      <th>3</th>\n",
              "      <td>barbecuing/getty-barbecue-video-id600107508_14...</td>\n",
              "      <td>barbecuing</td>\n",
              "      <td>3</td>\n",
              "      <td>0</td>\n",
              "    </tr>\n",
              "    <tr>\n",
              "      <th>4</th>\n",
              "      <td>saluting/getty--video-id106670892_4.mp4</td>\n",
              "      <td>saluting</td>\n",
              "      <td>3</td>\n",
              "      <td>1</td>\n",
              "    </tr>\n",
              "  </tbody>\n",
              "</table>\n",
              "</div>"
            ],
            "text/plain": [
              "                                            filename       label  good  bad\n",
              "0      blocking/getty-karate-video-id635808620_4.mp4    blocking     3    0\n",
              "1                    piloting/yt-SWQpGv37JOI_107.mp4    piloting     3    1\n",
              "2  dining/getty-accross-the-table-video-id5333709...      dining     3    1\n",
              "3  barbecuing/getty-barbecue-video-id600107508_14...  barbecuing     3    0\n",
              "4            saluting/getty--video-id106670892_4.mp4    saluting     3    1"
            ]
          },
          "metadata": {
            "tags": []
          },
          "execution_count": 47
        }
      ]
    },
    {
      "cell_type": "code",
      "metadata": {
        "id": "IwY2HmKpUI0B",
        "colab_type": "code",
        "outputId": "c6858caa-9a31-4f46-b3b5-056ce9a0289d",
        "colab": {
          "base_uri": "https://localhost:8080/",
          "height": 369
        }
      },
      "source": [
        "counts = train_df.label.value_counts()\n",
        "counts = counts[counts>3000].sort_index()\n",
        "temp_df = train_df[train_df.label.isin(counts.index)]\n",
        "plt.figure(figsize=(25, 5))\n",
        "plt.xticks(rotation=90, )\n",
        "sns.countplot(temp_df.label, order=counts.index.values)"
      ],
      "execution_count": 0,
      "outputs": [
        {
          "output_type": "execute_result",
          "data": {
            "text/plain": [
              "<matplotlib.axes._subplots.AxesSubplot at 0x7f7ba6569c88>"
            ]
          },
          "metadata": {
            "tags": []
          },
          "execution_count": 58
        },
        {
          "output_type": "display_data",
          "data": {
            "image/png": "[encoded data removed]",
            "text/plain": [
              "<Figure size 1800x360 with 1 Axes>"
            ]
          },
          "metadata": {
            "tags": [],
            "needs_background": "light"
          }
        }
      ]
    },
    {
      "cell_type": "code",
      "metadata": {
        "id": "5674RFKRU-Cd",
        "colab_type": "code",
        "colab": {}
      },
      "source": [
        ""
      ],
      "execution_count": 0,
      "outputs": []
    }
  ]
}